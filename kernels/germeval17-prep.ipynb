{
 "cells": [
  {
   "cell_type": "code",
   "execution_count": null,
   "metadata": {},
   "outputs": [],
   "source": [
    "import re\n",
    "import string\n",
    "import pandas as pd"
   ]
  },
  {
   "cell_type": "code",
   "execution_count": null,
   "metadata": {},
   "outputs": [],
   "source": [
    "demojis = pd.read_csv('./data/deutsche-bahn/demojis.tsv', header=None, sep='\\t')\n",
    "demojis = demojis.set_index(0).to_dict()[1]"
   ]
  },
  {
   "cell_type": "code",
   "execution_count": 21,
   "metadata": {},
   "outputs": [
    {
     "data": {
      "text/html": [
       "<div>\n",
       "<style scoped>\n",
       "    .dataframe tbody tr th:only-of-type {\n",
       "        vertical-align: middle;\n",
       "    }\n",
       "\n",
       "    .dataframe tbody tr th {\n",
       "        vertical-align: top;\n",
       "    }\n",
       "\n",
       "    .dataframe thead th {\n",
       "        text-align: right;\n",
       "    }\n",
       "</style>\n",
       "<table border=\"1\" class=\"dataframe\">\n",
       "  <thead>\n",
       "    <tr style=\"text-align: right;\">\n",
       "      <th></th>\n",
       "      <th>0</th>\n",
       "      <th>1</th>\n",
       "    </tr>\n",
       "  </thead>\n",
       "  <tbody>\n",
       "    <tr>\n",
       "      <th>0</th>\n",
       "      <td>neutral</td>\n",
       "      <td>@DB_Bahn ja, weil in Wuppertal Bauarbeiten sin...</td>\n",
       "    </tr>\n",
       "    <tr>\n",
       "      <th>1</th>\n",
       "      <td>positive</td>\n",
       "      <td>@nordschaf theoretisch kannste dir überall im ...</td>\n",
       "    </tr>\n",
       "    <tr>\n",
       "      <th>2</th>\n",
       "      <td>negative</td>\n",
       "      <td>Bahn verspätet sich..gleich kommt noch jemand ...</td>\n",
       "    </tr>\n",
       "    <tr>\n",
       "      <th>3</th>\n",
       "      <td>neutral</td>\n",
       "      <td>Ihre Anfragen brachten uns zu neuen Leistungen...</td>\n",
       "    </tr>\n",
       "    <tr>\n",
       "      <th>4</th>\n",
       "      <td>neutral</td>\n",
       "      <td>Kann ich mit dem DB Geschenk Ticket den ICE Sp...</td>\n",
       "    </tr>\n",
       "  </tbody>\n",
       "</table>\n",
       "</div>"
      ],
      "text/plain": [
       "          0                                                  1\n",
       "0   neutral  @DB_Bahn ja, weil in Wuppertal Bauarbeiten sin...\n",
       "1  positive  @nordschaf theoretisch kannste dir überall im ...\n",
       "2  negative  Bahn verspätet sich..gleich kommt noch jemand ...\n",
       "3   neutral  Ihre Anfragen brachten uns zu neuen Leistungen...\n",
       "4   neutral  Kann ich mit dem DB Geschenk Ticket den ICE Sp..."
      ]
     },
     "execution_count": 21,
     "metadata": {},
     "output_type": "execute_result"
    }
   ],
   "source": [
    "df = pd.read_csv('./data/deutsche-bahn/train_v1.4.tsv', header=None, sep='\\t')\n",
    "df = df[pd.notnull(df[1])]\n",
    "df.head()"
   ]
  },
  {
   "cell_type": "code",
   "execution_count": 22,
   "metadata": {},
   "outputs": [],
   "source": [
    "lookup = {'neutral': 2,\n",
    "          'positive': 1,\n",
    "          'negative': 0}\n",
    "\n",
    "sentiments = df[0].tolist()\n",
    "sentiments = [lookup[sentiment] for sentiment in sentiments]\n",
    "df[0] = sentiments"
   ]
  },
  {
   "cell_type": "code",
   "execution_count": 23,
   "metadata": {},
   "outputs": [],
   "source": [
    "lines = df[1].tolist()"
   ]
  },
  {
   "cell_type": "code",
   "execution_count": 24,
   "metadata": {
    "scrolled": false
   },
   "outputs": [],
   "source": [
    "# clean dirty\n",
    "_re1 = re.compile(r'[¼✔•●�©®☮\\|\\—\\–^><➱←↑→↓►▶️ॐ~]|(m⊃2)', re.UNICODE)\n",
    "for idx, line in enumerate(lines):\n",
    "    try:\n",
    "        lines[idx] = _re1.sub('', line)\n",
    "    except:\n",
    "        lines[idx]  = ''"
   ]
  },
  {
   "cell_type": "code",
   "execution_count": 25,
   "metadata": {},
   "outputs": [],
   "source": [
    "# standardaise quotations\n",
    "_re1 = re.compile(r'“|„', re.UNICODE)\n",
    "_re2 = re.compile(r'”', re.UNICODE)\n",
    "_re3 = re.compile(r'‚/w+‘', re.UNICODE)\n",
    "\n",
    "for idx, line in enumerate(lines):\n",
    "    line = _re1.sub(' « ', line)\n",
    "    line = _re2.sub(' » ', line)\n",
    "    search = _re3.findall(line)\n",
    "    if search:\n",
    "        std = ' '.join([' ‹', search[0][1:-1], '› '])\n",
    "        lines[idx] = _re3.sub(std, line)\n",
    "    else:\n",
    "        lines[idx] = line"
   ]
  },
  {
   "cell_type": "code",
   "execution_count": 26,
   "metadata": {},
   "outputs": [],
   "source": [
    "# lower-case all upper-case words\n",
    "\n",
    "for idx, line in enumerate(lines):\n",
    "    words = line.split(' ')\n",
    "    lines[idx] = ' '.join([word.lower() if word.isupper() \\\n",
    "                            else word for word in words])"
   ]
  },
  {
   "cell_type": "code",
   "execution_count": 27,
   "metadata": {},
   "outputs": [],
   "source": [
    "for idx, line in enumerate(lines):\n",
    "    line = re.sub(r'\\?+', '?', line, re.UNICODE)\n",
    "    line = re.sub(r'\\!+', '!', line, re.UNICODE)\n",
    "    line = re.sub(r'\\,+', ',', line, re.UNICODE)\n",
    "    line = re.sub(r'\\*+', '*', line, re.UNICODE)\n",
    "    line = re.sub(r'\\.[\\.]+', ' … ', line, re.UNICODE)\n",
    "    lines[idx] = re.sub(r'\\-+', '-', line, re.UNICODE)"
   ]
  },
  {
   "cell_type": "code",
   "execution_count": 28,
   "metadata": {},
   "outputs": [],
   "source": [
    "# drop hyphes and asterisks not between characters\n",
    "_re1 = re.compile(r'(?<!\\w)\\*+(?!\\w)|(?<!\\w)\\-+(?!\\w)', re.UNICODE)\n",
    "for idx, line in enumerate(lines):\n",
    "    lines[idx] = _re1.sub('', line)"
   ]
  },
  {
   "cell_type": "code",
   "execution_count": 29,
   "metadata": {},
   "outputs": [],
   "source": [
    "_re1 = re.compile(r'\\&', re.UNICODE)\n",
    "for idx, line in enumerate(lines):\n",
    "    lines[idx] = _re1.sub(' and ', line)"
   ]
  },
  {
   "cell_type": "code",
   "execution_count": 30,
   "metadata": {},
   "outputs": [],
   "source": [
    "for idx, line in enumerate(lines):\n",
    "    line = re.sub(r'\\-[\\-]+', ' ', line, re.UNICODE)\n",
    "    line = re.sub(r'\\+[\\+]+', ' ', line, re.UNICODE)\n",
    "    line = re.sub(r'\\_[\\_]+', ' ', line, re.UNICODE)\n",
    "    line = re.sub(r'\\=[\\=]+', ' ', line, re.UNICODE)\n",
    "    lines[idx] = re.sub(r'\\…[\\…]+', ' ', line, re.UNICODE)"
   ]
  },
  {
   "cell_type": "code",
   "execution_count": 31,
   "metadata": {},
   "outputs": [],
   "source": [
    "_re1 = re.compile(r'https?:\\/\\/(?:ww[w12]\\.|(?!ww[w12]))(.*?)(?=\\s|$)', re.UNICODE)\n",
    "for idx, line in enumerate(lines):\n",
    "    lines[idx] = _re1.sub(' <url> ', line)"
   ]
  },
  {
   "cell_type": "code",
   "execution_count": 32,
   "metadata": {},
   "outputs": [],
   "source": [
    "_re1 = re.compile(r'@DB_Bahn|@db_bahn|@DB_bahn', re.UNICODE)\n",
    "for idx, line in enumerate(lines):\n",
    "    lines[idx] = _re1.sub(' <dbahn> ', line)\n",
    "\n",
    "_re2 = re.compile(r'@[A-Za-z0-9_-]+(?=\\s|\\:|\\.|\\)|$)', re.UNICODE)\n",
    "for idx, line in enumerate(lines):\n",
    "    lines[idx] = _re2.sub(' @mention ', line)\n",
    "    \n",
    "_re3 = re.compile(r'[\\w_\\.]+@[\\w_-]*.[\\w]+', re.UNICODE)\n",
    "for idx, line in enumerate(lines):\n",
    "    lines[idx] = _re2.sub(' <email> ', line)"
   ]
  },
  {
   "cell_type": "code",
   "execution_count": 33,
   "metadata": {},
   "outputs": [],
   "source": [
    "demoticons = {\n",
    "':)': 'leicht lächelndes Gesicht' ,\n",
    "':(': 'betrübtes Gesicht',\n",
    "';)': 'zwinkerndes Gesicht',\n",
    "':/': 'verwundertes Gesicht',\n",
    "':D': 'grinsendes Gesicht mit großen Augen',\n",
    "':P': 'sich die Lippen leckendes Gesicht',\n",
    "';D': ' grinsendes Gesicht mit lachenden Augen',\n",
    "'XD': 'grinsendes Gesicht mit zusammengekniffenen Augen',\n",
    "'( ͡° ͜ʖ ͡°)': 'selbstgefällig grinsendes Gesicht',\n",
    "'❤' : 'rotes Herz',\n",
    "'✌': 'Victory-Geste'\n",
    "}\n",
    "\n",
    "demojis = {**demojis, **demoticons}"
   ]
  },
  {
   "cell_type": "code",
   "execution_count": 34,
   "metadata": {},
   "outputs": [],
   "source": [
    "for idx, line in enumerate(lines):\n",
    "    line = re.sub(r'\\:\\-?\\)', f\"<e> {demojis[':)']} </e>\", line, re.UNICODE)\n",
    "    line = re.sub(r'\\:\\-?\\(', f\"<e> {demojis[':(']} </e>\", line, re.UNICODE)\n",
    "    line = re.sub(r'\\;\\-?[\\\\\\/]', f\"<e> {demojis[':/']} </e>\", line, re.UNICODE)\n",
    "    line = re.sub(r'\\;\\-?\\)', f\"<e> {demojis[';)']} </e>\", line, re.UNICODE)\n",
    "    line = re.sub(r'\\:\\-?D', f\"<e> {demojis[':D']} </e>\", line, re.UNICODE)\n",
    "    line = re.sub(r'\\:\\-?[Pp]', f\"<e> {demojis[':P']} </e>\", line, re.UNICODE)\n",
    "    line = re.sub(r'\\;\\-?D', f\"<e> {demojis[';D']} </e>\", line, re.UNICODE)\n",
    "    line = re.sub(r'[xX]D', f\"<e> {demojis['XD']} </e>\", line, re.UNICODE)\n",
    "    line = re.sub(r'( ͡° ͜ʖ ͡°)', f\"<e> {demojis['( ͡° ͜ʖ ͡°)']} </e>\", line, re.UNICODE)\n",
    "    lines[idx] = line"
   ]
  },
  {
   "cell_type": "code",
   "execution_count": 35,
   "metadata": {},
   "outputs": [],
   "source": [
    "for idx, line in enumerate(lines):\n",
    "    line = re.sub(r'<url>\\s*<url>+', ' <url> ', line, re.UNICODE)\n",
    "    line = re.sub(r'@mention\\s*@mention+', ' @mention ', line, re.UNICODE)\n",
    "    line = re.sub(r'<email>\\s*<email>', ' <email> ', line, re.UNICODE)\n",
    "    lines[idx] = re.sub(r'\\s\\s+', ' ', line, re.UNICODE)"
   ]
  },
  {
   "cell_type": "code",
   "execution_count": 36,
   "metadata": {},
   "outputs": [],
   "source": [
    "for idx, line in enumerate(lines):\n",
    "    lines[idx] = ' '.join([f'<e> {demojis[word]} </e>' if word in list(demojis.keys()) else word for word in line.split()])"
   ]
  },
  {
   "cell_type": "code",
   "execution_count": 37,
   "metadata": {},
   "outputs": [
    {
     "data": {
      "text/html": [
       "<div>\n",
       "<style scoped>\n",
       "    .dataframe tbody tr th:only-of-type {\n",
       "        vertical-align: middle;\n",
       "    }\n",
       "\n",
       "    .dataframe tbody tr th {\n",
       "        vertical-align: top;\n",
       "    }\n",
       "\n",
       "    .dataframe thead th {\n",
       "        text-align: right;\n",
       "    }\n",
       "</style>\n",
       "<table border=\"1\" class=\"dataframe\">\n",
       "  <thead>\n",
       "    <tr style=\"text-align: right;\">\n",
       "      <th></th>\n",
       "      <th>0</th>\n",
       "      <th>1</th>\n",
       "    </tr>\n",
       "  </thead>\n",
       "  <tbody>\n",
       "    <tr>\n",
       "      <th>0</th>\n",
       "      <td>2</td>\n",
       "      <td>&lt;dbahn&gt; ja, weil in Wuppertal Bauarbeiten sind...</td>\n",
       "    </tr>\n",
       "    <tr>\n",
       "      <th>1</th>\n",
       "      <td>1</td>\n",
       "      <td>&lt;email&gt; theoretisch kannste dir überall im Köl...</td>\n",
       "    </tr>\n",
       "    <tr>\n",
       "      <th>2</th>\n",
       "      <td>0</td>\n",
       "      <td>Bahn verspätet sich … gleich kommt noch jemand...</td>\n",
       "    </tr>\n",
       "    <tr>\n",
       "      <th>3</th>\n",
       "      <td>2</td>\n",
       "      <td>Ihre Anfragen brachten uns zu neuen Leistungen...</td>\n",
       "    </tr>\n",
       "    <tr>\n",
       "      <th>4</th>\n",
       "      <td>2</td>\n",
       "      <td>Kann ich mit dem db Geschenk Ticket den ice Sp...</td>\n",
       "    </tr>\n",
       "  </tbody>\n",
       "</table>\n",
       "</div>"
      ],
      "text/plain": [
       "   0                                                  1\n",
       "0  2  <dbahn> ja, weil in Wuppertal Bauarbeiten sind...\n",
       "1  1  <email> theoretisch kannste dir überall im Köl...\n",
       "2  0  Bahn verspätet sich … gleich kommt noch jemand...\n",
       "3  2  Ihre Anfragen brachten uns zu neuen Leistungen...\n",
       "4  2  Kann ich mit dem db Geschenk Ticket den ice Sp..."
      ]
     },
     "execution_count": 37,
     "metadata": {},
     "output_type": "execute_result"
    }
   ],
   "source": [
    "df[1] = lines\n",
    "df.head()"
   ]
  },
  {
   "cell_type": "code",
   "execution_count": 38,
   "metadata": {},
   "outputs": [],
   "source": [
    "df.to_csv('train.csv', header=False, index=False)"
   ]
  },
  {
   "cell_type": "code",
   "execution_count": null,
   "metadata": {},
   "outputs": [],
   "source": []
  }
 ],
 "metadata": {
  "kernelspec": {
   "display_name": "Python 3",
   "language": "python",
   "name": "python3"
  },
  "language_info": {
   "codemirror_mode": {
    "name": "ipython",
    "version": 3
   },
   "file_extension": ".py",
   "mimetype": "text/x-python",
   "name": "python",
   "nbconvert_exporter": "python",
   "pygments_lexer": "ipython3",
   "version": "3.6.5"
  }
 },
 "nbformat": 4,
 "nbformat_minor": 2
}
