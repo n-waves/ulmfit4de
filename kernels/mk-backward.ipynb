{
 "cells": [
  {
   "cell_type": "code",
   "execution_count": 1,
   "metadata": {},
   "outputs": [],
   "source": [
    "from fastai.text import *\n",
    "from fastai.lm_rnn import *\n",
    "import sentencepiece as sp\n",
    "from scipy import stats\n",
    "import fastai.core"
   ]
  },
  {
   "cell_type": "code",
   "execution_count": 2,
   "metadata": {},
   "outputs": [],
   "source": [
    "fastai.core.USE_GPU = True"
   ]
  },
  {
   "cell_type": "code",
   "execution_count": 3,
   "metadata": {},
   "outputs": [],
   "source": [
    "torch.cuda.set_device(2)"
   ]
  },
  {
   "cell_type": "code",
   "execution_count": 4,
   "metadata": {
    "scrolled": true
   },
   "outputs": [
    {
     "name": "stdout",
     "output_type": "stream",
     "text": [
      "btw-nouniq30k  ge2017  shared  shared-wiki  wiki30k  wikige2017\n",
      "ls: cannot access '{GE2017}/': No such file or directory\n",
      "train.csv  train.txt  val.csv\n"
     ]
    }
   ],
   "source": [
    "BTW17 = Path(\"../data/btw17\")\n",
    "GE17  = Path(\"../data/germeval2017\")\n",
    "WORK = Path(\"../work/\")\n",
    "WIKI=Path(\"../data/wiki/de\")\n",
    "!ls {WORK}\n",
    "!ls {GE2017}/\n",
    "!ls {WIKI}"
   ]
  },
  {
   "cell_type": "code",
   "execution_count": 5,
   "metadata": {
    "scrolled": true
   },
   "outputs": [
    {
     "name": "stdout",
     "output_type": "stream",
     "text": [
      "dev_ids.npy    lbl_test2.npy  sp.model\t     trn_ids_all.npy\r\n",
      "lbl_dev.npy    lbl_trn.npy    test1_ids.npy  trn_ids.npy\r\n",
      "lbl_test1.npy  lbl_val.npy    test2_ids.npy  val_ids.npy\r\n"
     ]
    }
   ],
   "source": [
    "GE17WRK = WORK/\"ge2017/tmp\"\n",
    "GE17ML = WORK/\"ge2017/models\"\n",
    "!ls {GE17WRK}"
   ]
  },
  {
   "cell_type": "code",
   "execution_count": 13,
   "metadata": {},
   "outputs": [],
   "source": [
    "lbl = np.load(GE17WRK/'lbl_val.npy')"
   ]
  },
  {
   "cell_type": "code",
   "execution_count": 14,
   "metadata": {},
   "outputs": [],
   "source": [
    "inp = np.load(GE17WRK/'trn_ids.npy')"
   ]
  },
  {
   "cell_type": "code",
   "execution_count": 15,
   "metadata": {},
   "outputs": [
    {
     "data": {
      "text/plain": [
       "((2584,), (20941,))"
      ]
     },
     "execution_count": 15,
     "metadata": {},
     "output_type": "execute_result"
    }
   ],
   "source": [
    "lbl.shape, inp.shape"
   ]
  },
  {
   "cell_type": "code",
   "execution_count": 18,
   "metadata": {
    "scrolled": false
   },
   "outputs": [
    {
     "data": {
      "text/plain": [
       "(1,\n",
       " array([    2,     4,  2796,    11,  4367,   171,    12,   394,    24, 17694,  2864,  8451,    71,    12,\n",
       "         7979,   345,    83,    61,    12,   126,  5460,    96,   134,  4310,    23, 17500,   152,    27,\n",
       "            3]))"
      ]
     },
     "execution_count": 18,
     "metadata": {},
     "output_type": "execute_result"
    }
   ],
   "source": [
    "lbl[0], inp[0]"
   ]
  },
  {
   "cell_type": "code",
   "execution_count": 19,
   "metadata": {},
   "outputs": [],
   "source": [
    "f = GE17WRK/'lbl_val.npy'"
   ]
  },
  {
   "cell_type": "code",
   "execution_count": 34,
   "metadata": {},
   "outputs": [
    {
     "data": {
      "text/plain": [
       "True"
      ]
     },
     "execution_count": 34,
     "metadata": {},
     "output_type": "execute_result"
    }
   ],
   "source": [
    "f.exists()"
   ]
  },
  {
   "cell_type": "code",
   "execution_count": 48,
   "metadata": {},
   "outputs": [],
   "source": [
    "def mk_bwd(f):\n",
    "    if f.suffix != '.npy':\n",
    "        print(\"Ingoring\", f, 'not a npy')\n",
    "        return\n",
    "    if not f.stem.endswith('_ids'):\n",
    "        print(f'Ignoring {f}, does not ends with _ids')\n",
    "        return\n",
    "    n = f.with_name(str(f.name).replace('.npy', '_bwd.npy'))\n",
    "    if n.exists():\n",
    "        print(\"Backward version exist, ignoring\",f)\n",
    "        return\n",
    "    print(f\"Reversing {f} -> {n}\")\n",
    "    arr = np.load(f)\n",
    "    res = np.array([np.flip(a, axis=0) for a in arr])\n",
    "    \n",
    "    np.save(str(n), res)"
   ]
  },
  {
   "cell_type": "code",
   "execution_count": 50,
   "metadata": {
    "scrolled": false
   },
   "outputs": [
    {
     "name": "stdout",
     "output_type": "stream",
     "text": [
      "Reversing ../work/wiki30k/tmp/val_ids.npy -> ../work/wiki30k/tmp/val_ids_bwd.npy\n",
      "Reversing ../work/wiki30k/tmp/trn_ids.npy -> ../work/wiki30k/tmp/trn_ids_bwd.npy\n",
      "Reversing ../work/wikige2017/tmp/test2_ids.npy -> ../work/wikige2017/tmp/test2_ids_bwd.npy\n",
      "Ignoring ../work/wikige2017/tmp/lbl_test1.npy, does not ends with _ids\n",
      "Reversing ../work/wikige2017/tmp/val_ids.npy -> ../work/wikige2017/tmp/val_ids_bwd.npy\n",
      "Ignoring ../work/wikige2017/tmp/trn_ids_all.npy, does not ends with _ids\n",
      "Ignoring ../work/wikige2017/tmp/lbl_trn.npy, does not ends with _ids\n",
      "Reversing ../work/wikige2017/tmp/test1_ids.npy -> ../work/wikige2017/tmp/test1_ids_bwd.npy\n",
      "Ignoring ../work/wikige2017/tmp/lbl_test2.npy, does not ends with _ids\n",
      "Reversing ../work/wikige2017/tmp/trn_ids.npy -> ../work/wikige2017/tmp/trn_ids_bwd.npy\n",
      "Ignoring ../work/wikige2017/tmp/lbl_val.npy, does not ends with _ids\n",
      "Reversing ../work/btw-nouniq30k/tmp/val_ids.npy -> ../work/btw-nouniq30k/tmp/val_ids_bwd.npy\n",
      "Reversing ../work/btw-nouniq30k/tmp/trn_ids.npy -> ../work/btw-nouniq30k/tmp/trn_ids_bwd.npy\n",
      "Backward version exist, ignoring ../work/ge2017/tmp/test2_ids.npy\n",
      "Ignoring ../work/ge2017/tmp/dev_ids_bwd.npy, does not ends with _ids\n",
      "Backward version exist, ignoring ../work/ge2017/tmp/dev_ids.npy\n",
      "Ignoring ../work/ge2017/tmp/lbl_test1.npy, does not ends with _ids\n",
      "Ignoring ../work/ge2017/tmp/test1_ids_bwd.npy, does not ends with _ids\n",
      "Backward version exist, ignoring ../work/ge2017/tmp/val_ids.npy\n",
      "Ignoring ../work/ge2017/tmp/trn_ids_all.npy, does not ends with _ids\n",
      "Ignoring ../work/ge2017/tmp/val_ids_bwd.npy, does not ends with _ids\n",
      "Ignoring ../work/ge2017/tmp/trn_ids_bwd.npy, does not ends with _ids\n",
      "Ignoring ../work/ge2017/tmp/lbl_trn.npy, does not ends with _ids\n",
      "Backward version exist, ignoring ../work/ge2017/tmp/test1_ids.npy\n",
      "Ignoring ../work/ge2017/tmp/test2_ids_bwd.npy, does not ends with _ids\n",
      "Ignoring ../work/ge2017/tmp/lbl_test2.npy, does not ends with _ids\n",
      "Backward version exist, ignoring ../work/ge2017/tmp/trn_ids.npy\n",
      "Ignoring ../work/ge2017/tmp/lbl_dev.npy, does not ends with _ids\n",
      "Ignoring ../work/ge2017/tmp/lbl_val.npy, does not ends with _ids\n",
      "Ignoring ../work/ge2017/tmp/dev_ids_bwd_bwd.npy, does not ends with _ids\n"
     ]
    }
   ],
   "source": [
    "for p in WORK.glob('**/*.npy'): mk_bwd(p)"
   ]
  },
  {
   "cell_type": "code",
   "execution_count": 54,
   "metadata": {
    "scrolled": false
   },
   "outputs": [
    {
     "name": "stdout",
     "output_type": "stream",
     "text": [
      "../work/btw-nouniq30k/tmp/trn_ids.npy\n",
      "../work/btw-nouniq30k/tmp/trn_ids_bwd.npy\n",
      "../work/btw-nouniq30k/tmp/val_ids.npy\n",
      "../work/btw-nouniq30k/tmp/val_ids_bwd.npy\n",
      "../work/ge2017/tmp/lbl_dev.npy\n",
      "../work/ge2017/tmp/lbl_test1.npy\n",
      "../work/ge2017/tmp/lbl_test2.npy\n",
      "../work/ge2017/tmp/lbl_trn.npy\n",
      "../work/ge2017/tmp/lbl_val.npy\n",
      "../work/ge2017/tmp/test1_ids.npy\n",
      "../work/ge2017/tmp/test1_ids_bwd.npy\n",
      "../work/ge2017/tmp/test2_ids.npy\n",
      "../work/ge2017/tmp/test2_ids_bwd.npy\n",
      "../work/ge2017/tmp/trn_ids.npy\n",
      "../work/ge2017/tmp/trn_ids_all.npy\n",
      "../work/ge2017/tmp/trn_ids_bwd.npy\n",
      "../work/ge2017/tmp/val_ids.npy\n",
      "../work/ge2017/tmp/val_ids_bwd.npy\n",
      "../work/wiki30k/tmp/trn_ids.npy\n",
      "../work/wiki30k/tmp/trn_ids_bwd.npy\n",
      "../work/wiki30k/tmp/val_ids.npy\n",
      "../work/wiki30k/tmp/val_ids_bwd.npy\n",
      "../work/wikige2017/tmp/lbl_test1.npy\n",
      "../work/wikige2017/tmp/lbl_test2.npy\n",
      "../work/wikige2017/tmp/lbl_trn.npy\n",
      "../work/wikige2017/tmp/lbl_val.npy\n",
      "../work/wikige2017/tmp/test1_ids.npy\n",
      "../work/wikige2017/tmp/test1_ids_bwd.npy\n",
      "../work/wikige2017/tmp/test2_ids.npy\n",
      "../work/wikige2017/tmp/test2_ids_bwd.npy\n",
      "../work/wikige2017/tmp/trn_ids.npy\n",
      "../work/wikige2017/tmp/trn_ids_all.npy\n",
      "../work/wikige2017/tmp/trn_ids_bwd.npy\n",
      "../work/wikige2017/tmp/val_ids.npy\n",
      "../work/wikige2017/tmp/val_ids_bwd.npy\n"
     ]
    }
   ],
   "source": [
    "for p in sorted(WORK.glob('**/*.npy')): print(p)"
   ]
  },
  {
   "cell_type": "code",
   "execution_count": null,
   "metadata": {},
   "outputs": [],
   "source": []
  }
 ],
 "metadata": {
  "kernelspec": {
   "display_name": "Python [conda env:fastai]",
   "language": "python",
   "name": "conda-env-fastai-py"
  },
  "language_info": {
   "codemirror_mode": {
    "name": "ipython",
    "version": 3
   },
   "file_extension": ".py",
   "mimetype": "text/x-python",
   "name": "python",
   "nbconvert_exporter": "python",
   "pygments_lexer": "ipython3",
   "version": "3.6.6"
  }
 },
 "nbformat": 4,
 "nbformat_minor": 2
}
