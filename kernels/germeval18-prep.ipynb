{
 "cells": [
  {
   "cell_type": "code",
   "execution_count": 28,
   "metadata": {},
   "outputs": [],
   "source": [
    "import re\n",
    "import string\n",
    "import pandas as pd"
   ]
  },
  {
   "cell_type": "code",
   "execution_count": 57,
   "metadata": {},
   "outputs": [
    {
     "data": {
      "text/html": [
       "<div>\n",
       "<style scoped>\n",
       "    .dataframe tbody tr th:only-of-type {\n",
       "        vertical-align: middle;\n",
       "    }\n",
       "\n",
       "    .dataframe tbody tr th {\n",
       "        vertical-align: top;\n",
       "    }\n",
       "\n",
       "    .dataframe thead th {\n",
       "        text-align: right;\n",
       "    }\n",
       "</style>\n",
       "<table border=\"1\" class=\"dataframe\">\n",
       "  <thead>\n",
       "    <tr style=\"text-align: right;\">\n",
       "      <th></th>\n",
       "      <th>0</th>\n",
       "      <th>1</th>\n",
       "      <th>2</th>\n",
       "    </tr>\n",
       "  </thead>\n",
       "  <tbody>\n",
       "    <tr>\n",
       "      <th>0</th>\n",
       "      <td>@corinnamilborn Liebe Corinna, wir würden dich...</td>\n",
       "      <td>OTHER</td>\n",
       "      <td>OTHER</td>\n",
       "    </tr>\n",
       "    <tr>\n",
       "      <th>1</th>\n",
       "      <td>@Martin28a Sie haben ja auch Recht. Unser Twee...</td>\n",
       "      <td>OTHER</td>\n",
       "      <td>OTHER</td>\n",
       "    </tr>\n",
       "    <tr>\n",
       "      <th>2</th>\n",
       "      <td>@ahrens_theo fröhlicher gruß aus der schönsten...</td>\n",
       "      <td>OTHER</td>\n",
       "      <td>OTHER</td>\n",
       "    </tr>\n",
       "    <tr>\n",
       "      <th>3</th>\n",
       "      <td>@dushanwegner Amis hätten alles und jeden gewä...</td>\n",
       "      <td>OTHER</td>\n",
       "      <td>OTHER</td>\n",
       "    </tr>\n",
       "    <tr>\n",
       "      <th>4</th>\n",
       "      <td>@spdde kein verläßlicher Verhandlungspartner. ...</td>\n",
       "      <td>OFFENSE</td>\n",
       "      <td>INSULT</td>\n",
       "    </tr>\n",
       "  </tbody>\n",
       "</table>\n",
       "</div>"
      ],
      "text/plain": [
       "                                                   0        1       2\n",
       "0  @corinnamilborn Liebe Corinna, wir würden dich...    OTHER   OTHER\n",
       "1  @Martin28a Sie haben ja auch Recht. Unser Twee...    OTHER   OTHER\n",
       "2  @ahrens_theo fröhlicher gruß aus der schönsten...    OTHER   OTHER\n",
       "3  @dushanwegner Amis hätten alles und jeden gewä...    OTHER   OTHER\n",
       "4  @spdde kein verläßlicher Verhandlungspartner. ...  OFFENSE  INSULT"
      ]
     },
     "execution_count": 57,
     "metadata": {},
     "output_type": "execute_result"
    }
   ],
   "source": [
    "df = pd.read_csv('./data/germeval18/germeval2018.training.txt', header=None, sep='\\t')\n",
    "df = df[pd.notnull(df[1])]\n",
    "df.head()"
   ]
  },
  {
   "cell_type": "code",
   "execution_count": 58,
   "metadata": {},
   "outputs": [
    {
     "data": {
      "text/html": [
       "<div>\n",
       "<style scoped>\n",
       "    .dataframe tbody tr th:only-of-type {\n",
       "        vertical-align: middle;\n",
       "    }\n",
       "\n",
       "    .dataframe tbody tr th {\n",
       "        vertical-align: top;\n",
       "    }\n",
       "\n",
       "    .dataframe thead th {\n",
       "        text-align: right;\n",
       "    }\n",
       "</style>\n",
       "<table border=\"1\" class=\"dataframe\">\n",
       "  <thead>\n",
       "    <tr style=\"text-align: right;\">\n",
       "      <th></th>\n",
       "      <th>0</th>\n",
       "      <th>1</th>\n",
       "    </tr>\n",
       "  </thead>\n",
       "  <tbody>\n",
       "    <tr>\n",
       "      <th>0</th>\n",
       "      <td>OTHER</td>\n",
       "      <td>@corinnamilborn Liebe Corinna, wir würden dich...</td>\n",
       "    </tr>\n",
       "    <tr>\n",
       "      <th>1</th>\n",
       "      <td>OTHER</td>\n",
       "      <td>@Martin28a Sie haben ja auch Recht. Unser Twee...</td>\n",
       "    </tr>\n",
       "    <tr>\n",
       "      <th>2</th>\n",
       "      <td>OTHER</td>\n",
       "      <td>@ahrens_theo fröhlicher gruß aus der schönsten...</td>\n",
       "    </tr>\n",
       "    <tr>\n",
       "      <th>3</th>\n",
       "      <td>OTHER</td>\n",
       "      <td>@dushanwegner Amis hätten alles und jeden gewä...</td>\n",
       "    </tr>\n",
       "    <tr>\n",
       "      <th>4</th>\n",
       "      <td>OFFENSE</td>\n",
       "      <td>@spdde kein verläßlicher Verhandlungspartner. ...</td>\n",
       "    </tr>\n",
       "  </tbody>\n",
       "</table>\n",
       "</div>"
      ],
      "text/plain": [
       "         0                                                  1\n",
       "0    OTHER  @corinnamilborn Liebe Corinna, wir würden dich...\n",
       "1    OTHER  @Martin28a Sie haben ja auch Recht. Unser Twee...\n",
       "2    OTHER  @ahrens_theo fröhlicher gruß aus der schönsten...\n",
       "3    OTHER  @dushanwegner Amis hätten alles und jeden gewä...\n",
       "4  OFFENSE  @spdde kein verläßlicher Verhandlungspartner. ..."
      ]
     },
     "execution_count": 58,
     "metadata": {},
     "output_type": "execute_result"
    }
   ],
   "source": [
    "df = df.reindex(columns=[1, 0]).T.reset_index(drop=True).T\n",
    "df.head()"
   ]
  },
  {
   "cell_type": "code",
   "execution_count": 59,
   "metadata": {},
   "outputs": [
    {
     "data": {
      "text/html": [
       "<div>\n",
       "<style scoped>\n",
       "    .dataframe tbody tr th:only-of-type {\n",
       "        vertical-align: middle;\n",
       "    }\n",
       "\n",
       "    .dataframe tbody tr th {\n",
       "        vertical-align: top;\n",
       "    }\n",
       "\n",
       "    .dataframe thead th {\n",
       "        text-align: right;\n",
       "    }\n",
       "</style>\n",
       "<table border=\"1\" class=\"dataframe\">\n",
       "  <thead>\n",
       "    <tr style=\"text-align: right;\">\n",
       "      <th></th>\n",
       "      <th>0</th>\n",
       "      <th>1</th>\n",
       "    </tr>\n",
       "  </thead>\n",
       "  <tbody>\n",
       "    <tr>\n",
       "      <th>0</th>\n",
       "      <td>0</td>\n",
       "      <td>@corinnamilborn Liebe Corinna, wir würden dich...</td>\n",
       "    </tr>\n",
       "    <tr>\n",
       "      <th>1</th>\n",
       "      <td>0</td>\n",
       "      <td>@Martin28a Sie haben ja auch Recht. Unser Twee...</td>\n",
       "    </tr>\n",
       "    <tr>\n",
       "      <th>2</th>\n",
       "      <td>0</td>\n",
       "      <td>@ahrens_theo fröhlicher gruß aus der schönsten...</td>\n",
       "    </tr>\n",
       "    <tr>\n",
       "      <th>3</th>\n",
       "      <td>0</td>\n",
       "      <td>@dushanwegner Amis hätten alles und jeden gewä...</td>\n",
       "    </tr>\n",
       "    <tr>\n",
       "      <th>4</th>\n",
       "      <td>1</td>\n",
       "      <td>@spdde kein verläßlicher Verhandlungspartner. ...</td>\n",
       "    </tr>\n",
       "  </tbody>\n",
       "</table>\n",
       "</div>"
      ],
      "text/plain": [
       "   0                                                  1\n",
       "0  0  @corinnamilborn Liebe Corinna, wir würden dich...\n",
       "1  0  @Martin28a Sie haben ja auch Recht. Unser Twee...\n",
       "2  0  @ahrens_theo fröhlicher gruß aus der schönsten...\n",
       "3  0  @dushanwegner Amis hätten alles und jeden gewä...\n",
       "4  1  @spdde kein verläßlicher Verhandlungspartner. ..."
      ]
     },
     "execution_count": 59,
     "metadata": {},
     "output_type": "execute_result"
    }
   ],
   "source": [
    "lookup = {'OTHER': 0,\n",
    "          'OFFENSE': 1}\n",
    "\n",
    "offenses = df[0].tolist()\n",
    "offenses = [lookup[offense] for offense in offenses]\n",
    "df[0] = offenses\n",
    "\n",
    "df.head()"
   ]
  },
  {
   "cell_type": "code",
   "execution_count": 60,
   "metadata": {},
   "outputs": [],
   "source": [
    "lines = df[1].tolist()"
   ]
  },
  {
   "cell_type": "code",
   "execution_count": 61,
   "metadata": {},
   "outputs": [],
   "source": [
    "# lower-case all upper-case words\n",
    "for idx, line in enumerate(lines):\n",
    "    words = line.split()\n",
    "    lines[idx] = ' '.join([word.lower() if word.isupper() \\\n",
    "                            else word for word in words])"
   ]
  },
  {
   "cell_type": "code",
   "execution_count": 62,
   "metadata": {},
   "outputs": [],
   "source": [
    "# remove double occurences\n",
    "for idx, line in enumerate(lines):\n",
    "    line = re.sub(r'\\?+', '?', line, re.UNICODE)\n",
    "    line = re.sub(r'\\!+', '!', line, re.UNICODE)\n",
    "    line = re.sub(r'\\,+', ',', line, re.UNICODE)\n",
    "    line = re.sub(r'\\*+', '*', line, re.UNICODE)\n",
    "    line = re.sub(r'\\.[\\.]+', ' … ', line, re.UNICODE)\n",
    "    lines[idx] = re.sub(r'\\-+', '-', line, re.UNICODE)"
   ]
  },
  {
   "cell_type": "code",
   "execution_count": 63,
   "metadata": {},
   "outputs": [],
   "source": [
    "# drop hyphes and asterisks not between characters\n",
    "_re1 = re.compile(r'(?<!\\w)\\*+(?!\\w)|(?<!\\w)\\-+(?!\\w)', re.UNICODE)\n",
    "for idx, line in enumerate(lines):\n",
    "    lines[idx] = _re1.sub('', line)"
   ]
  },
  {
   "cell_type": "code",
   "execution_count": 64,
   "metadata": {},
   "outputs": [],
   "source": [
    "# replace & with 'and'\n",
    "_re1 = re.compile(r'\\&', re.UNICODE)\n",
    "for idx, line in enumerate(lines):\n",
    "    lines[idx] = _re1.sub(' and ', line)"
   ]
  },
  {
   "cell_type": "code",
   "execution_count": 65,
   "metadata": {},
   "outputs": [],
   "source": [
    "for idx, line in enumerate(lines):\n",
    "    line = re.sub(r'\\-[\\-]+', ' ', line, re.UNICODE)\n",
    "    line = re.sub(r'\\+[\\+]+', ' ', line, re.UNICODE)\n",
    "    line = re.sub(r'\\_[\\_]+', ' ', line, re.UNICODE)\n",
    "    line = re.sub(r'\\=[\\=]+', ' ', line, re.UNICODE)\n",
    "    lines[idx] = re.sub(r'\\…[\\…]+', ' ', line, re.UNICODE)"
   ]
  },
  {
   "cell_type": "code",
   "execution_count": 66,
   "metadata": {},
   "outputs": [],
   "source": [
    "_re1 = re.compile(r'@[A-Za-z0-9_-]+(?=\\s|\\:|\\.|\\)|$)', re.UNICODE)\n",
    "\n",
    "\n",
    "memo = {}\n",
    "\n",
    "for line in lines:\n",
    "    for match in _re1.finditer(line):\n",
    "        if line[match.start():match.end()] not in list(memo.keys()):\n",
    "            memo[line[match.start():match.end()]] = 1\n",
    "        else:\n",
    "            memo[line[match.start():match.end()]] += 1\n",
    "\n",
    "for ix, line in enumerate(lines):\n",
    "    words = line.split()\n",
    "    for idx, word in enumerate(words):\n",
    "        match = _re1.match(word)\n",
    "        if match:\n",
    "            if memo[word[match.start():match.end()]] <= 10:\n",
    "                words[idx] = _re1.sub('@mention', word[match.start():match.end()])\n",
    "    lines[ix] = ' '.join(words)"
   ]
  },
  {
   "cell_type": "code",
   "execution_count": 67,
   "metadata": {},
   "outputs": [],
   "source": [
    "for idx, line in enumerate(lines):\n",
    "    line = re.sub(r'@mention\\s*@mention+', ' @mention ', line, re.UNICODE)\n",
    "    lines[idx] = re.sub(r'\\s\\s+', ' ', line, re.UNICODE)"
   ]
  },
  {
   "cell_type": "code",
   "execution_count": 68,
   "metadata": {},
   "outputs": [
    {
     "data": {
      "text/html": [
       "<div>\n",
       "<style scoped>\n",
       "    .dataframe tbody tr th:only-of-type {\n",
       "        vertical-align: middle;\n",
       "    }\n",
       "\n",
       "    .dataframe tbody tr th {\n",
       "        vertical-align: top;\n",
       "    }\n",
       "\n",
       "    .dataframe thead th {\n",
       "        text-align: right;\n",
       "    }\n",
       "</style>\n",
       "<table border=\"1\" class=\"dataframe\">\n",
       "  <thead>\n",
       "    <tr style=\"text-align: right;\">\n",
       "      <th></th>\n",
       "      <th>0</th>\n",
       "      <th>1</th>\n",
       "    </tr>\n",
       "  </thead>\n",
       "  <tbody>\n",
       "    <tr>\n",
       "      <th>0</th>\n",
       "      <td>0</td>\n",
       "      <td>@mention Liebe Corinna, wir würden dich gerne ...</td>\n",
       "    </tr>\n",
       "    <tr>\n",
       "      <th>1</th>\n",
       "      <td>0</td>\n",
       "      <td>@mention Sie haben ja auch Recht. Unser Tweet ...</td>\n",
       "    </tr>\n",
       "    <tr>\n",
       "      <th>2</th>\n",
       "      <td>0</td>\n",
       "      <td>@mention fröhlicher gruß aus der schönsten sta...</td>\n",
       "    </tr>\n",
       "    <tr>\n",
       "      <th>3</th>\n",
       "      <td>0</td>\n",
       "      <td>@dushanwegner Amis hätten alles und jeden gewä...</td>\n",
       "    </tr>\n",
       "    <tr>\n",
       "      <th>4</th>\n",
       "      <td>1</td>\n",
       "      <td>@spdde kein verläßlicher Verhandlungspartner. ...</td>\n",
       "    </tr>\n",
       "  </tbody>\n",
       "</table>\n",
       "</div>"
      ],
      "text/plain": [
       "   0                                                  1\n",
       "0  0  @mention Liebe Corinna, wir würden dich gerne ...\n",
       "1  0  @mention Sie haben ja auch Recht. Unser Tweet ...\n",
       "2  0  @mention fröhlicher gruß aus der schönsten sta...\n",
       "3  0  @dushanwegner Amis hätten alles und jeden gewä...\n",
       "4  1  @spdde kein verläßlicher Verhandlungspartner. ..."
      ]
     },
     "execution_count": 68,
     "metadata": {},
     "output_type": "execute_result"
    }
   ],
   "source": [
    "df[1] = lines\n",
    "df.head()"
   ]
  },
  {
   "cell_type": "code",
   "execution_count": 69,
   "metadata": {},
   "outputs": [],
   "source": [
    "import numpy as np\n",
    "\n",
    "shuff = np.random.rand(len(df)) < 0.8\n",
    "_df = df[shuff]\n",
    "df_ = df[~shuff]\n",
    "\n",
    "_df.to_csv('train.csv', header=False, index=False)\n",
    "df_.to_csv('val.csv', header=False, index=False)"
   ]
  },
  {
   "cell_type": "code",
   "execution_count": 55,
   "metadata": {},
   "outputs": [],
   "source": [
    "df.to_csv('test.csv', header=False, index=False)"
   ]
  }
 ],
 "metadata": {
  "kernelspec": {
   "display_name": "Python 3",
   "language": "python",
   "name": "python3"
  },
  "language_info": {
   "codemirror_mode": {
    "name": "ipython",
    "version": 3
   },
   "file_extension": ".py",
   "mimetype": "text/x-python",
   "name": "python",
   "nbconvert_exporter": "python",
   "pygments_lexer": "ipython3",
   "version": "3.6.5"
  }
 },
 "nbformat": 4,
 "nbformat_minor": 2
}
