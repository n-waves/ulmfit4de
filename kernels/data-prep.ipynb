{
 "cells": [
  {
   "cell_type": "code",
   "execution_count": 3,
   "metadata": {},
   "outputs": [],
   "source": [
    "from fastai.text import *\n",
    "from fastai.lm_rnn import *\n",
    "import sentencepiece as sp"
   ]
  },
  {
   "cell_type": "code",
   "execution_count": 4,
   "metadata": {
    "scrolled": false
   },
   "outputs": [
    {
     "name": "stdout",
     "output_type": "stream",
     "text": [
      "btw-nouniq30k  ge2017  shared  shared-wiki  wiki30k  wikige2017\n",
      "dev_v1.4.tsv  test_TIMESTAMP1.tsv  test_TIMESTAMP2.tsv\ttrain_v1.4.tsv\n",
      "dev_v1.4.xml  test_TIMESTAMP1.xml  test_TIMESTAMP2.xml\ttrain_v1.4.xml\n"
     ]
    }
   ],
   "source": [
    "BTW17 = Path(\"../data/btw17\")\n",
    "germeval2017  = Path(\"../data/germeval2017\")\n",
    "WORK = Path(\"../work/\")\n",
    "!ls {WORK}\n",
    "!ls {germeval2017}/"
   ]
  },
  {
   "cell_type": "code",
   "execution_count": 5,
   "metadata": {},
   "outputs": [
    {
     "name": "stdout",
     "output_type": "stream",
     "text": [
      "train.csv  train.txt  val.csv\r\n"
     ]
    }
   ],
   "source": [
    "#wiki=Path(\"../data/wiki/de\")\n",
    "#!ls {wiki}"
   ]
  },
  {
   "cell_type": "code",
   "execution_count": 6,
   "metadata": {},
   "outputs": [],
   "source": [
    "#train_wiki = pd.read_csv(wiki/\"train.csv\", header=None)\n",
    "#np.savetxt(wiki/'train.txt', train_wiki.values, fmt=\"%s\")\n",
    "#!cat {BTW17}/text.txt >> {wiki}/train.txt"
   ]
  },
  {
   "cell_type": "code",
   "execution_count": 7,
   "metadata": {},
   "outputs": [],
   "source": [
    "def read_germeval(csvfn):\n",
    "    cols=[\"id\", \"text\", \"relevance\", \"sentiment\", \"aspect:polarity\"]\n",
    "    df = pd.read_csv(germeval2017/csvfn , delimiter=\"\\t\", header=None, names=cols, index_col=False)\n",
    "    df.sentiment = pd.Categorical(df.sentiment, categories=['neutral', 'negative', 'positive'])\n",
    "    df.relevance = pd.Categorical(df.relevance, categories=[False, True])\n",
    "    sen = pd.DataFrame(df.text)\n",
    "    sen['sentiment'] = df.sentiment.cat.codes\n",
    "    rel = pd.DataFrame(df.text)\n",
    "    rel['relevance'] = df.relevance.cat.codes\n",
    "    return sen,rel\n",
    "\n",
    "# sen_trn,_ = read_germeval('train_v1.4.tsv')\n",
    "# sen_val,_ = read_germeval('dev_v1.4.tsv')\n",
    "# sen_test1,_ = read_germeval('test_TIMESTAMP1.tsv')\n",
    "# sen_test2,_ = read_germeval('test_TIMESTAMP2.tsv')\n"
   ]
  },
  {
   "cell_type": "code",
   "execution_count": 8,
   "metadata": {},
   "outputs": [],
   "source": [
    "sen,_ = read_germeval('dev_v1.4.tsv')\n"
   ]
  },
  {
   "cell_type": "code",
   "execution_count": 9,
   "metadata": {},
   "outputs": [],
   "source": [
    "import concurrent.futures\n",
    "spp = sp.SentencePieceProcessor()\n",
    "p = WORK/'btw-nouniq30k'\n",
    "spp.Load(str( p/ 'tmp' / 'sp.model'))\n",
    "vs = spp.GetPieceSize() #len(itos)\n",
    "spp.SetEncodeExtraOptions(\"bos:eos\")\n",
    "def toIds_raw(l):\n",
    "    return spp.EncodeAsIds(str(l))   # to cover for NaN like on line 164\n",
    "\n",
    "def tokenize(lines):\n",
    "    WORKERS=num_cpus()\n",
    "    results=[]\n",
    "    chunksize=max(1,int(len(lines)/100/WORKERS))\n",
    "    with concurrent.futures.ProcessPoolExecutor() as e:\n",
    "        for result in e.map(toIds_raw, lines, chunksize=chunksize):\n",
    "            results.append(np.array(result))\n",
    "    return np.array(results)"
   ]
  },
  {
   "cell_type": "code",
   "execution_count": 10,
   "metadata": {
    "scrolled": true
   },
   "outputs": [
    {
     "data": {
      "text/plain": [
       "array([    2,     7,   232,   726,  2608,     7,  2856,  1738,  2323,   972,     6, 15487,    38,   329,\n",
       "          22,  4367, 14644,    23, 14990,  2761,     6,  2348,    12,    18,  3545,     5,  2446,     5,\n",
       "        6729,     5,   392, 21634,   108,     9,   267,    14,    10,     5,    15,    16,  6510,  7137,\n",
       "        6786,   119,    85,   254,    79,     3])"
      ]
     },
     "execution_count": 10,
     "metadata": {},
     "output_type": "execute_result"
    }
   ],
   "source": [
    "sen['tok'] = tokenize(sen['text'])\n",
    "sen['tok'][2]"
   ]
  },
  {
   "cell_type": "code",
   "execution_count": 11,
   "metadata": {},
   "outputs": [],
   "source": [
    "# trn, val, test\n",
    "germeval2017_tmp = WORK/'ge2017'/'tmp'\n",
    "germeval2017_tmp.mkdir(exist_ok=True, parents=True)\n",
    "def convert_germeval(fn, set_name):\n",
    "    sen,_ = read_germeval(fn)\n",
    "    sen['tok'] = tokenize(sen['text'])\n",
    "    np.save(germeval2017_tmp/f'{set_name}_ids.npy' ,np.array(sen['tok']))\n",
    "    np.save(germeval2017_tmp/f'lbl_{set_name}.npy' ,np.array(sen['sentiment']))\n",
    "    return sen['tok']\n",
    "# 'tmp/val_{IDS}_bwd.npy'\n",
    "# 'tmp/trn_{IDS}.npy'\n",
    "# 'tmp/val_{IDS}.npy'\n",
    "# 'tmp/lbl_trn{train_file_id}.npy'\n",
    "# 'tmp/lbl_val.npy'"
   ]
  },
  {
   "cell_type": "code",
   "execution_count": 12,
   "metadata": {},
   "outputs": [],
   "source": [
    "# sen_trn,_ = read_germeval('train_v1.4.tsv')\n",
    "# sen_val,_ = read_germeval('dev_v1.4.tsv')\n",
    "# sen_test1,_ = read_germeval('test_TIMESTAMP1.tsv')\n",
    "# sen_test2,_ = read_germeval('test_TIMESTAMP2.tsv'"
   ]
  },
  {
   "cell_type": "code",
   "execution_count": 13,
   "metadata": {},
   "outputs": [],
   "source": [
    "all_text = [[]]*4"
   ]
  },
  {
   "cell_type": "code",
   "execution_count": 14,
   "metadata": {},
   "outputs": [],
   "source": [
    "all_text[0] = convert_germeval('train_v1.4.tsv', 'trn')"
   ]
  },
  {
   "cell_type": "code",
   "execution_count": 15,
   "metadata": {},
   "outputs": [],
   "source": [
    "all_text[1] =  [] # do not add val set to all text\n",
    "val = convert_germeval('dev_v1.4.tsv', 'val')"
   ]
  },
  {
   "cell_type": "code",
   "execution_count": 16,
   "metadata": {},
   "outputs": [],
   "source": [
    "cols=[\"id\", \"text\", \"relevance\", \"sentiment\", \"aspect:polarity\"]\n",
    "df = pd.read_csv(germeval2017/'test_TIMESTAMP1.tsv' , delimiter=\"\\t\", header=None, names=cols)"
   ]
  },
  {
   "cell_type": "code",
   "execution_count": 17,
   "metadata": {
    "scrolled": true
   },
   "outputs": [],
   "source": [
    "all_text[2] = convert_germeval('test_TIMESTAMP1.tsv', 'test1')"
   ]
  },
  {
   "cell_type": "code",
   "execution_count": 18,
   "metadata": {
    "scrolled": true
   },
   "outputs": [],
   "source": [
    "all_text[3] = convert_germeval('test_TIMESTAMP2.tsv', 'test2')"
   ]
  },
  {
   "cell_type": "code",
   "execution_count": 19,
   "metadata": {},
   "outputs": [
    {
     "data": {
      "text/plain": [
       "[(20941,), (0,), (2566,), (1842,)]"
      ]
     },
     "execution_count": 19,
     "metadata": {},
     "output_type": "execute_result"
    }
   ],
   "source": [
    "[np.array(a).shape for a in all_text]"
   ]
  },
  {
   "cell_type": "code",
   "execution_count": 160,
   "metadata": {},
   "outputs": [],
   "source": [
    "all_text_np = np.concatenate(all_text)"
   ]
  },
  {
   "cell_type": "code",
   "execution_count": 161,
   "metadata": {},
   "outputs": [],
   "source": [
    "np.save(germeval2017_tmp/f'trn_ids_all.npy' ,all_text_np)"
   ]
  },
  {
   "cell_type": "code",
   "execution_count": 91,
   "metadata": {
    "scrolled": true
   },
   "outputs": [
    {
     "name": "stdout",
     "output_type": "stream",
     "text": [
      "https://plus.google.com/106967535142671617878/posts/5x5NBQhH2Pv\tnull\tfalse\tneutral\r\n"
     ]
    }
   ],
   "source": [
    "! head -n 165 {germeval2017}/dev_v1.4.tsv | tail -n 1"
   ]
  },
  {
   "cell_type": "markdown",
   "metadata": {},
   "source": [
    "# Sentence piece statistics"
   ]
  },
  {
   "cell_type": "code",
   "execution_count": 20,
   "metadata": {
    "scrolled": true
   },
   "outputs": [
    {
     "data": {
      "text/plain": [
       "357133"
      ]
     },
     "execution_count": 20,
     "metadata": {},
     "output_type": "execute_result"
    }
   ],
   "source": [
    "sum([len(s) for s in val])"
   ]
  },
  {
   "cell_type": "code",
   "execution_count": 21,
   "metadata": {},
   "outputs": [
    {
     "name": "stdout",
     "output_type": "stream",
     "text": [
      "Maximal length of sentence in tokens 6865\n",
      "AVG Length in tokens 138.20936532507739\n",
      "Length of valuation set 2584\n"
     ]
    }
   ],
   "source": [
    "print(\"Maximal length of sentence in tokens\", max([len(s) for s in val]))\n",
    "print(\"AVG Length in tokens\", sum([len(s) for s in val])/len(val))\n",
    "print(\"Length of valuation set\", len(val))"
   ]
  },
  {
   "cell_type": "code",
   "execution_count": 176,
   "metadata": {},
   "outputs": [],
   "source": [
    "val_t,_ = read_germeval('dev_v1.4.tsv')"
   ]
  },
  {
   "cell_type": "code",
   "execution_count": 187,
   "metadata": {},
   "outputs": [
    {
     "data": {
      "text/plain": [
       "(4475,\n",
       " 20,\n",
       " '+++ Newsticker FlÃ¼chtlingskrise +++: Deutschland will mit Kriegsschiffen Jagd auf Schleuser machen +++ 21.23 Uhr: Polizeibekannter Neonazi bewachte Flüchtlinge +++ Großbritannien mehr Flüchtlinge aufnehmen. Dazu sollen Tausende Syrer direkt aus den Flüchtlingslagern ausgewählt werden. +++ 20.43 Uhr: Regierung will Mandat für bewaffneten Einsatz gegen Schlepper +++ Die EU-Außenminister kommen am Freitag in Luxemburg zusammen, um unter anderem über die dramatische Situation der Flüchtlinge zu beraten. Schwerpunkt der zweitägigen Gespräche soll die Situation in den Herkunfts- und Transitstaaten sein. Deutschland und Frankreich starteten kurz vor dem Treffen eine gemeinsame Initiative für verbindliche Aufnahmequoten in der EU. In Ungarn herrschten wegen der großen Zahl von Flüchtlingen zuletzt teilweise chaotische Zustände. In der Stadt Bicske wehrten sich am Abend rund 500 Menschen gegen den Transport in ein Flüchtlingslager. Sie waren an der Weiterreise per Zug nach Westen gehindert worden. +++ 20.20 Uhr: Ruf nach EU-Sondergipfel zur Flüchtlingskrise wird lauter +++ Nach Angaben der ungarischen Polizei brechen etwa 300 Migranten aus einem Aufnahmelager in Roszke nahe der serbischen Grenze aus. Ein Reuters-Fotograf beobachtet unterdessen in Budapest, dass sich Hunderte Flüchtlinge aufmachen, um vom Ostbahnhof der Hauptstadt zur österreichischen Grenze zu gehen. Die Entfernung beträgt knapp 200 Kilometer. +++ 19.45 Uhr: Estland bleibt beim Nein zu Flüchtlingsquoten +++ Am Bahnhof von Bicske stirbt ein Migrant. Das berichtet die ungarische Nachrichtenagentur MTI unter Berufung auf den Rettungsdienst. Der 50-Jährige sei zusammengebrochen auf den Schienen gefunden worden; Rettungsversuche seien vergeblich gewesen. Über die genaue Todesursache und über die Herkunft des Mannes gibt es noch keine Informationen. +++ 18.45 Uhr: Streit zwischen Flüchtlingen und Rechtsradikalen vereitelt +++ Premierminister David Cameron geriet unter Druck, nachdem das Bild eines ertrunkenen Flüchtlingsjungen große Betroffenheit in Großbritannien ausgelöst hatte. Konservative Politiker schlossen sich der Forderung der Opposition an, die harte Asylpolitik zu ändern. Auch Cameron sagte, er sei “tief bewegt” von dem Foto. Großbritannien werde seiner moralischen Verantwortung nachkommen. +++ 18.15 Uhr: Mann gesteht Brandanschlag in Salzhemmendorf +++ Großbritannien will mehr Geld für die Unterstützung von Menschen aufbringen, die aus Syrien und anderen Konfliktgebieten fliehen. Premierminister David Cameron kündigt an, die Hilfen um 100 Million Pfund (etwa 137 Millionen Euro) aufzustocken. Insgesamt gebe sein Land damit eine Milliarde Pfund (etwa 1,37 Miliarden Euro) zur Unterstützung von Flüchtlingslagern an den Grenzen Syriens aus. Dies sei die größte Summe, die Großbritannien jemals in einer humanitären Krise aufgebracht habe. In einer Flüchtlingsunterkunft im hessischen Heppenheim hat es in der Nacht zum Freitag gebrannt. Ein Mann wurde schwer verletzt, als er sich mit einem Sprung aus der zweiten Etage ins Freie rettete, teilt die Polizei mit. Weitere der mehr als 60 Bewohner erlitten leichte Rauchgasverletzungen. Nach ersten Erkenntnissen brach das Feuer hinter der Eingangstür aus. Die Ursache sei noch unklar, sagt eine Polizeisprecherin. Ob es sich um Brandstiftung handele, könne derzeit nicht gesagt werden. Man ermittele jedoch in alle Richtungen. Der auf der Flucht nach Europa ertrunkene dreijährige Aylan ist in seiner nordsyrischen Heimatstadt Kobane beigesetzt worden. Auch sein ebenfalls ums Leben gekommener Bruder und seine Mutter seien bestattet worden, erklärt Kurden-Sprecher Idriss Nassan. Vater Abdullah Kurdi sagte dem kurdischen Sender Rudaw: “Ich hoffe, dass meine Geschichte die Menschen dazu bringt, den Flüchtlingen mehr zu helfen.” Der leblose Körper von Aylan war an einem Strand im türkischen Bodrum angespült worden. Das Foto des toten Kindes löste international Bestürzung aus. +++ 18.15 Uhr: Osteuropäische Länder fordern restriktive Flüchtlingspolitik +++ Der Städtetag rechnet wegen der hohen Flüchtlingszahlen mit einem jährlichen zusätzlichen Bedarf von mindestens 300.000 neuen Wohnungen in Deutschland. “Darunter sollten mindestens 30.000 bis 40.000 geförderte Sozialwohnungen sein, im Moment sind es erst halb so viele”, sagte Städtetagspräsidentin Eva Lohse der “Rheinischen Post” laut Vorabbericht. Zugleich forderte die Ludwigshafener Oberbürgermeisterin mehr Entlastung der mit der Flüchtlingsversorgung zunehmend finanziell überforderten Kommunen durch Bund und Länder. “Für eine Pro-Kopf-Pauschale des Bundes und der Länder an die Kommunen spricht, dass sie dynamisch mitwächst”, sagte die CDU-Politikerin. “Ein Sonderfonds für Asylbewerber und Flüchtlinge vom Bund für die Kommunen hätte den Vorteil, dass das Geld direkt bei den Kommunen ankäme und nicht bei den Ländern versickern kann”. Denkbar sei auch eine Kombination aus beidem. +++ 18 Uhr: Migrant am ungarischen Bahnhof Bicske gestorben +++ Russlands Präsident Wladimir Putin hat der Europäischen Union wegen deren Nähe zu den USA eine Mitschuld an der Flüchtlingskrise in Europa gegeben. “Europa folgt blind den amerikanischen Anweisungen und trägt nun diese schwere Last”, sagt Putin bei einem Besuch in Wladiwostok. Zuvor schon hatte das russische Außenministerium eine verfehlte Nahostpolitik westlicher Staaten als Auslöser der Flüchtlingsströme bezeichnet. +++ 17.31 Uhr: Tschechien und Slowakei schlagen Flüchtlings-Korridor vor +++ Der Sprecher der Internationalen Organisation für Migration (IOM), Flavio Di Giacomo, berichtet auf Twitter von etwa 40 Flüchtlingen, die möglicherweise vor der libyschen Küste im Mittelmeer ertrunken sein könnten. Nach Berichten von Überlebenden würden noch etwa 20 Menschen vermisst, sagt eine Sprecherin der Küstenwache in Italien. Die Küstenwache hatte am Donnerstag 91 Menschen von einem Boot vor Libyen gerettet, ein toter Migrant wurde im Wasser gefunden. +++ 16.45 Uhr: London stockt Hilfen für Flüchtlinge auf +++ EU-Kommissionschef Jean-Claude Juncker will in der kommenden Woche die Verteilung von 120.000 weiteren Flüchtlingen auf andere EU-Staaten vorschlagen. Damit sollen Griechenland, Italien und Ungarn entlastet werden – in diesen Ländern kommen sehr viele Flüchtlinge an. Eine Sprecherin der Behörde macht deutlich, dass der alte Vorschlag der Kommission, 40.000 Flüchtlinge aus Italien und Griechenland zu verteilen, weiterhin gültig sei. “Das käme zusätzlich”, sagt sie mit Blick auf den neuen Vorstoß. Juncker will ihn am kommenden Mittwoch im Straßburger Europaparlament präsentieren. +++ 16.04 Uhr: 1000 Flüchtlinge zu Fuß auf Autobahn Richtung Grenze unterwegs+++ Der UN-Hochkommissar für Flüchtlinge, António Guterres, appeliert an die EU, sich auf Verteilung von bis zu 200.000 Flüchtlingen auf die Mitgliedstaaten nach verbindlichen Quoten zu einigen. Zugleich müssten ausreichende Erstaufnahmezentren geschaffen werden, fordert Guterres. Dabei brauche insbesondere Griechenland Hilfe, erklärt der UN-Hochkommissar mit Blick auf das EU-Außenministertreffen zur Flüchtlingskrise in Luxemburg. “Solidarität kann nicht allein in der Verantwortung einiger weniger EU-Staaten liegen.” Die Lage der Asylsuchenden in Ungarn ist weiter angespannt. Regierungschef Viktor Orban droht damit, einen weiteren Zaun an der Grenze zu Kroatien zu errichten. 500 Flüchtlinge am Bahnhof von Bicske protestieren gegen ihren geplanten Transport in ein ungarisches Flüchtlingslager. Sie verweigern Essen und Trinken. Die Polizei hat inzwischen einen zweiten Zug mit Flüchtlingen gestoppt. Nach dem Foto von dem toten Flüchtlingsjungen Ailan reagiert Großbritannien auf Forderungen, mehr Flüchtlinge aufzunehmen. Premier David Cameron will Tausende Syrer direkt aus den Flüchtlingscamps an den Grenzen zu Syrien holen. Der Junge wurde im syrischen Kobane beerdigt. Hunderte Menschen sind in Ungarn aus ihren Flüchtlingslagern ausgebrochen. Mehr als tausend Flüchtlinge marschieren zu Fuß von Budapest Richtung Österreich. Die Ereignisse in der Flüchtlingskrise im stern -Newsticker. +++ 16.00 Uhr: Grüne nennen Flüchtlingspolitik der Bundesregierung “Totalausfall” +++ Der Verfassungsschutz befürchtet laut einem Zeitungsbericht einen weiteren Anstieg rechtsextremer Gewalt gegen Ausländer. “Eine Trendwende für die zweite Jahreshälfte ist derzeit nicht abzusehen”, sagte der Präsident des Bundesamtes für Verfassungsschutz (BfV), Hans-Georg Maaßen, dem “Tagesspiegel”. Maaßen verwies auf eine massive “Anti-Asyl-Agitation” der rechtsextremistischen Parteien NPD, Die Rechte, Der Dritte Weg und Pro NRW. Es sei “bemerkenswert, dass sich die Internetseiten der Parteien nahezu vollständig auf dieses Thema fokussieren”. Auch wenn sich die Parteien verbal von den Gewaltexzessen distanzierten, trügen sie “eine Mitschuld daran, wenn einige Protestierer zur Gewalt gegen Asylbewerber schreiten”, kritisierte Maaßen im “Tagesspiegel”. Er beobachte zudem mit Sorge, dass die Hetze gegen Flüchtlinge “zu einer weiteren Radikalisierung in der rechtsextremistischen Szene” führe. Damit werde ein Trend bestätigt, den der Verfassungsschutz schon in den vergangenen Jahren festgestellt habe. +++ 15.53 Uhr: Gabriel droht Hilfs-Unwilligen mit Sperrung von EU-Mitteln +++ Der Vater des in der Türkei geborgenen toten Flüchtlingskinds Ailan Kurdi will die auf der Flucht umgekommenen Mitglieder seiner Familie in der syrischen Stadt Kobane an der Grenze zur Türkei bestatten. Abdullah Kurdi ist mit den Särgen des dreijährigen Ailan, dessen fünfjährigen Bruders Galip und der Mutter der Kinder in der türkischen Grenzstadt Suruc angekommen. Gemeinsam mit Angehörigen und türkischen Sicherheitskräften brach er von dort in Richtung Kobane auf. Ailan, Galip und ihre Mutter waren im Mittelmeer ertrunken, als die syrische Familie aus der Türkei in das EU-Land Griechenland flüchten wollte. +++ 15.34 Uhr: Putin gibt EU wegen Nähe zu USA Mitschuld an Flüchtlingskrise +++ Der Vorsitzende der rechtspopulistischen britischen Ukip, Nigel Farange, wirft Bundeskanzlerin Angela Merkel das Anheizen der Flüchtlingskrise vor. Mit ihrer Ankündigung, Deutschland werde mehr Asylsuchende aufnehmen, habe sie mehr Menschen dazu animiert, sich auf den lebensgefährlichen Weg nach Europa zu machen. Ob der neue Zaun an der serbischen Grenze wie von der Regierung geplant auch von Soldaten bewacht werden darf, kommt nicht zur Abstimmung. Die links-liberale Opposition konnte das unter Berufung auf Formalitäten der Parlaments-Hausordnung verhindern. +++ 15.31 Uhr: Flüchtlinge durchbrechen Sperre +++ In dem Haus landete der selbst gebastelte Molotow-Cocktail dann in einem leeren Schlafzimmer in der von 40 Menschen bewohnten Unterkunft. Im Nebenraum schliefen eine Frau aus Simbabwe und ihre drei kleinen Kinder. Sie blieben nur durch Glück unverletzt. Der Feuerwehrmann half bei den Löscharbeiten. Das tatverdächtige Trio sitzt wegen versuchten Mordes und schwerer Brandstiftung in Untersuchungshaft. +++ 15.29 Uhr: Bundesregierung verdoppelt Hilfe für Flüchtlinge in Griechenland +++ Ungarns Außenminister Peter Szijjarto weist Kritik an der Flüchtlingspolitik seines Landes zurück. “Wir haben in Budapest eine dramatische Situation, weil einige Migranten, was Fingerabdrücke und Fotos angeht, eine Kooperation mit den ungarischen Behörden verweigern”, sagt Szijjarto bei einem Treffen der EU-Außenminister in Luxemburg. Ein Bahnhof sei keine Flüchtlingsstation. Die Asylsuchenden sollten ihn verlassen und in Flüchtlingszentren gehen. +++ 15.23 Uhr: Ungarn erklärt illegalen Grenzübertritt zur Straftat +++ Mehrere hundert Flüchtlinge laufen zu Fuß vom Budapester Ostbahnhof los in Richtung Grenze. Zuvor hatte eine Gruppe junger Männer die rund 3000 vor dem Bahnhof campierenden Asylbewerber aufgefordert, sich diesem Fußmarsch nach Österreich anzuschließen. Müttern mit kleinen Kindern bieten die jungen Männer an, sie beim Tragen der Kleinen zu unterstützen. “Wenn wir in kleinen Gruppen unterwegs sind, dann schnappt uns die Polizei, aber gemeinsam sind wir stark”, sagt ein junger Mann aus dem syrischen Aleppo. Die Polizei, die rund um den Bahnhof keine starke Präsenz zeigt, lässt die Gruppe zunächst gewähren. Ein mitbeschuldigter 24 Jahre alter Feuerwehrmann und eine 23-jährige Frau hatten ihre Beteiligung an der Tat ebenfalls bereits gestanden. Nach dem Bericht des “Spiegel” sollen die beiden Männer vor der Tat Bier und fast zwei Flaschen Weinbrand getrunken haben. Dazu hörten sie Musik von Rechtsrock-Bands wie Sturmwehr, Nordfront und Kategorie C. Dann füllten sie eine Flasche mit Benzin und Sägespänen. Die 23-jährige, die keinen Alkohol getrunken habe, fuhr das Auto zum Tatort. +++ 15.04 Uhr: Ungarischer Minister gibt Flüchtlingen Schuld am Bahnhof-Chaos +++ Der umstrittene Umgang der ungarischen Behörden mit Flüchtlingen führt zu dramatischen Szenen. Mehr als tausend Flüchtlinge haben sich inzwischen dem Fußmarsch vom Budapester Ostbahnhof Richtung österreichische Grenze angeschlossen. Ihr Weg führt sie auch über die Autobahn. Teilnehmer berichteten, sie wollten versuchen zu Fuß die rund 175 Kilometer entfernte österreichische Grenze zu erreichen. Sie überquerten die Elisabet-Brücke über die Donau, ohne dass die Polizei eingriff. Teilnehmer des Marsches spreizten die Finger zum Sieges- bzw. Peace-Zeichen, andere schwenkten Bilder von Bundeskanzlerin Angela Merkel (CDU). Am Nachmittag erreichten sie den Zubringer zur Autobahn 1 nach Wien, wie ungarische Nachrichtenportale und Fernsehsender berichteten. SPD-Vizechef Ralf Stegner spricht sich dagegen aus, zur Bewältigung der hohen Flüchtlingszahlen das Asylrecht zu ändern. “Es ist so viel zu tun, da sollten wir jetzt nicht über Veränderungen am Asylrecht nachdenken, für die es keine politische Mehrheit gibt”, sagt Stegner im Deutschlandfunk. “Die Substanz unseres individuellen Rechts, dass politisches Asyl geprüft wird, die dürfen wir nicht einschränken.” Aus der Union gibt es etwa die Forderung, die Einstufung von sicheren Herkunftsstaaten an niedrige Anerkennungsquoten zu koppeln. Auch den Vorschlag, das Grundgesetz zu ändern, damit der Bund künftig an den Ländern vorbei direkte Hilfszahlungen an die Kommunen leisten kann, lehnt Stegner ab. Benötigt würden stattdessen mehr Mittel vom Bund. +++ 15.01 Uhr: Bahnkorridor nach Deutschland möglich +++ Tschechien und die Slowakei schlagen die Einrichtung eines Korridors für syrische Flüchtlinge zwischen Ungarn und Deutschland vor. Beide Länder könnten einen Bahn-Korridor für syrische Flüchtlinge auf dem Weg von Ungarn nach Deutschland einrichten, wenn Berlin und Budapest zustimmten, sagt der tschechische Innenminister Milan Chovanec in Prag. Dabei könnten Tschechien und die Slowakei “die Züge passieren lassen, ohne die Menschen weiter zu kontrollieren”. +++14.38 Uhr: Britische EU-Gegner: Merkel heizt Flüchtlingskrise an+++ Der Deutsche Städtetag fordert einen raschen Ausbau der Erstaufnahmeeinrichtungen für Flüchtlinge. Die Zahl solcher Plätze in winterfesten Quartieren müsse bundesweit auf 150.000 erhöht werden, sagt Hauptgeschäftsführer Stephan Articus. Zudem müssten die Flüchtlinge dort künftig bis zu einem halben Jahr statt nur drei Monate bleiben können. So soll möglichst vor einer Verteilung in die Kommunen über ihren Anspruch auf Asyl entschieden werden. +++ 14.17 Uhr: Juncker will Verteilung von weiteren 120.000 Flüchtlingen vorschlagen +++ Die 71 in einem Kühlwagen ums Leben gekommenen Flüchtlinge sind nach Angaben österreichischer Behörden wahrscheinlich in dem luftdicht abgeschlossenen Laderaum noch in Ungarn erstickt. Bislang sei kein Einziger identifiziert worden. Die Polizei geht davon aus, dass es sich um Menschen aus Syrien, dem Irak und Afghanistan handelt. +++ 14.12 Uhr: Frauen und Kinder in Bicske wollen am Samstag losmarschieren +++ Flüchtlinge in Budapest machen sich nun zu Fuß auf in Richtung Österreichischer Grenze. +++ 13.56 Uhr: In Bicske festgehaltene Flüchtlinge brechen aus +++ Ungarns Premier Viktor Orban: “Der Strom der Migranten ist endlos …” +++ 13.40 Uhr: Städtetag fordert mindestens 150.000 Flüchtlings-Erstaufnahmeplätze +++ Die Bundesregierung will sich laut einem Bericht des ARD-Hauptstadtstudios im Rahmen der EU-Mission im Mittelmeer mit zwei Kriegsschiffen an der Jagd auf Schleuser beteiligen und sucht dafür ein Mandat des Bundestages. Der Staatssekretär im Auswärtigen Amt, Markus Ederer, habe die Bundestagsfraktionen über den Plan informiert, berichtet das Hauptstadtstudio. Da bei dem Einsatz gegen Schlepper auch der Gebrauch von Schusswaffen erlaubt sei, sei die Zustimmung des Bundestages notwendig. Der Bundestag solle am 24. September über das Mandat beraten und Anfang Oktober darüber abstimmen. +++ 13.32 Uhr: Hunderte Flüchtlinge starten Fußmarsch von Budapest nach Westen +++ Mit 5600 Menschen hat am Donnerstag eine Rekordzahl an Flüchtlingen die Grenze von Griechenland nach Mazedonien überquert. Die Zahl sei etwa doppelt so hoch wie üblich, sagt die Sprecherin des UN-Flüchtlingshilfswerks UNHCR, Melissa Fleming. Normalerweise liege die Zahl bei 2000 bis 3000 pro Tag. Es sei schwierig vorauszusagen, wie sich die Situation in den kommenden Wochen entwickle. Die Grünen in Bundestag äußern scharfe Kritik an der Flüchtlingspolitik der Bundesregierung und insbesondere an Innenminister Thomas de Maiziére (CDU). Was die große Koalition bisher gezeigt habe, sei ein “kompletter Totalausfall”, sagt die Fraktionsvorsitzende Katrin Göring-Eckardt. Der Innenminister habe einen “gigantischen Stau” beim Bundesamt für Migration und Flüchtlinge (BAMF) zu verantworten, wo 250.000 Asylanträge unbearbeitet seien. De Maiziére versage aber auch beim Kampf gegen Fremdenfeinde und Rechtsextreme nach den zahlreichen Anschlägen auf Asylbewerberheime in Deutschland. +++ 13.19 Uhr: Möglicherweise erneut Flüchtlinge im Mittelmeer ertrunken +++ Tschechien und die Slowakei können sich nach Angaben ihrer Innenminister vorstellen, einen Bahnkorridor für Flüchtlinge von Ungarn nach Deutschland einzurichten. Dies könne geschehen, wenn sich die Regierungen in Budapest und Berlin einig seien. In Ungarn gilt illegaler Grenzübertritt vom 15. September an nicht mehr nur als Ordnungswidrigkeit, sondern als Straftat. Das beschließt das Parlament in Budapest im Eilverfahren auf Initiative des Innenministers Sandor Pinter. Schlepper sollen mit bis zu 20 Jahren Haft bestraft werden. Zur Verhinderung der illegalen Einwanderung sollen Transitzonen an der Grenze eingerichtet werden, die zur serbischen Seite hin offen sind und auf der ungarischen Seite geschlossen. Die Transitzonen sind als größere Flächen geplant, auf denen sich Flüchtlinge bis zum Ende ihres Asylverfahrens aufhalten dürfen. — Flavio Di Giacomo (@fladig) 4. September 2015 So rasant verbreitet sich #RefugeesWelcome in Europa +++ 13.15 Uhr: Flüchtlinge in Kühltransporter wohl erstickt +++ Mehr als 333.000 Menschen in Großbritannien fordern ihre Regierung auf, mehr Flüchtlinge ins Land zu lassen. “Großbritannien gewährt im Verhältnis zu anderen europäischen Ländern nicht ausreichend Asyl”, heißt es einer Online-Petition an Regierung und Abgeordnete. “Wir müssen helfen.” Petitionen, die mehr als 100.000 Unterstützer finden, werden für eine Parlamentsdebatte in Betracht gezogen. +++ 13.14 Uhr: Mehr als 5600 Flüchtlinge kommen in Mazedonien an +++ Putin spricht nun ebenfalls von einer falschen Politik des Westens in Nordafrika und Nahost. Die Krise sei erwartbar gewesen, sagt der Kremlchef nach einem Bericht der Nachrichtenagentur Interfax. Eine Lösung der Krise sei nur durch einen vereinten Kampf gegen den Terrorismus möglich. +++ 13.09 Uhr: Ungarisches Parlament verschärft Strafen für Grenzverletzung +++ Die Flüchtlingsbeauftragte der Bundesregierung, Aydan Özoguz (SPD), ermahnt die ungarische Regierung, Flüchtlinge nicht wieder tatenlos Richtung Deutschland durchreisen zu lassen. “Wir erwarten, dass Ungarn die Flüchtlinge im eigenen Land registriert und entsprechend der europäischen Standards behandelt. Dabei können wir durchaus auch Hilfe leisten”, so die SPD-Politikerin der “Nordwest-Zeitung”. Das eigentliche Problem sei, dass die Bedingungen für Flüchtlinge in manchen EU-Staaten so schlimm seien, dass die Migranten alles versuchen, um dort wegzukommen. +++ 12.47 Uhr: 300 Flüchtlinge aus Aufnahmelager in Ungarn geflohen +++ Im ungarischen Fernsehen war zu sehen, wie Autos an den marschierenden Flüchtlingen vorbeifuhren. Angeführt wurden sie von einem Mann mit EU-Flagge. Die Fernsehbilder zeigten neben ihm einen Mann auf Krücken; er hatte ein Bild von Bundeskanzlerin Angela Merkel (CDU) auf der Brust. Im Internet verbreiteten sich Bilder und Nachrichten zu dem Flüchtlingsmarsch etwa mit dem Twitter-Schlagwort (Hashtag) #MigrantMarch. +++ 12. 45 Uhr: Palästinensermädchen Reem darf weiter in Rostock bleiben +++ An einer ungarischen Autobahn durchbrechen Flüchtlinge einem Augenzeugen zufolge eine Absperrung der Polizei. Demnach laufen sie weiter in Richtung Österreich. +++ 12.34 Uhr: Mindestens 30 Bootsflüchtlinge vor libyscher Küste vermisst +++ The 91 survivors brought to Lampedusa told IOM that they were on a dinghy carrying 130-140.Many drowned. #missingmigrants are approx.40 +++ 12.29 Uhr: Bundesregierung: Ungarn muss Asylverfahren durchführen +++ Das ungarische Parlament beschließt ein Gesetz, durch das die Strafen für illegale Grenzübertritte verschärft werden. Zudem beschließt es die Einrichtung sogenannter Transitzonen in Grenznähe. +++ 11.49 Uhr: Polizei in Ungarn stoppt zweiten Zug mit Flüchtlingen +++ Das durch ihre Tränen während einer Diskussion mit Bundeskanzlerin Angela Merkel (CDU) im Juli bekanntgewordene Palästinensermädchen Reem hat gute Chancen auf eine gesicherte Existenz in Deutschland. Nach Angaben des Rostocker Rathauses haben das 14-jährige Mädchen und ihr Vater zunächst eine bis März 2016 befristete Aufenthaltserlaubnis erhalten. Diese Erlaubnis werde halbjährlich überprüft. Es sei davon auszugehen, dass die Behörden bei den kommenden Prüfungen zu keinem anderen Ergebnis kommen werden. Die endgültige Klärung erfolge spätestens zum März 2017. +++ 11.44 Uhr: Syrisches Flüchtlingskind Aylan in Kobane beigesetzt +++ In d Die Bundesregierung will sich laut einem Bericht des ARD-Hauptstadtstudios im Rahmen der EU-Mission im Mittelmeer mit zwei Kriegsschiffen an der Jagd auf Schleuser beteiligen und sucht dafür ein Mandat des Bundestages. Der Staatssekretär im Auswärtigen Amt, Markus Ederer, habe am Freitagabend die Bundestagsfraktionen über den Plan informiert, berichtete das Hauptstadtstudio. Da bei dem Einsatz gegen Schlepper auch der Gebrauch von Schusswaffen erlaubt sei, sei die Zustimmung des Bundestages notwendig. Der Bundestag solle am 24. September über das Mandat beraten und Anfang Oktober darüber abstimmen. er Europäischen Union wird der Ruf nach einem Sondergipfel der Staats- und Regierungschefs zur Flüchtlingskrise lauter. Bei einem Außenministertreffen in Luxemburg spricht sich unter anderem der österreichische Außenminister Sebastian Kurz offen dafür aus. Sein slowakischer Amtskollege Miroslaw Lajcak sagt: “Wir wären sicherlich dafür. Wenn wir bis Mitte Oktober warten, könnte das zu spät sein.” Neben einem Sondergipfel ist auch ein weiteres Sondertreffen der europäischen Außen- und Innenminister im Gespräch. Es könnte den Gipfel vorbereiten. +++ 10.54 Uhr: Vater von totem Flüchtlingsjungen reist zu Begräbnis nach Syrien +++ Mit Blick auf die Flüchtlingskrise spricht sich Ungarns Ministerpräsident Viktor Orban erneut gegen die Einwanderung von Muslimen aus. Man müsse respektieren, dass andere EU-Länder früher beschlossen hätten, mit Muslimen zusammenleben zu wollen. Jedoch “haben wir auch das Recht zu entscheiden, ob wir diesem Beispiel folgen wollen”, sagt der rechtskonservative Regierungschef im ungarischen Staatsrundfunk. Er selbst rate davon ab. +++10.09 Uhr: Orban gegen Zusammenleben mit Muslimen +++ Flüchtlinge im Zug am Bahnhof im ungarischen Bicske verweigern Essen und Trinken Asylpolitik So unterschiedlich sind Leistungen für Flüchtlinge in Europa +++ 10.00 Uhr: Großbritannien will mehr Flüchtlinge aufnehmen +++ Nach dem Brandanschlag auf ein Flüchtlingsheim im niedersächsischen Salzhemmendorf legt nach Informationen des Nachrichtenmagazins “Spiegel” auch der dritte Tatverdächtige ein Geständnis ab. Der 30-Jährige habe zugegeben, einen Molotow-Cocktail auf das Haus geworfen zu haben, schreibt das Blatt. Die Staatsanwaltschaft Hannover wollte dazu keine Stellungnahme abgeben. In einer Flüchtlingserstaufnahmestelle in Heidelberg hat einem Medienbericht ein polizeibekannter Rechtsradikaler gearbeitet. Der Mann aus Kassel sei bei einer Überprüfung durch den Staatsschutz aufgefallen, bestätigen die Polizei und das Regierungspräsidium Karlsruhe dem “Mannheimer Morgen”. Das Regierungspräsidium habe die private Sicherheitsfirma aufgefordert, den Mann sofort aus der Einrichtung zu verweisen und ihm Hausverbot zu erteilen. +++ 9.42 Uhr: Nach Brand in Heppenheimer Flüchtlingsunterkunft ermittelt das LKA +++ Etwa 500 protestierende Flüchtlinge haben die Nacht zum Freitag am Bahnhof im ungarischen Bicske im Zug verbracht. Sie wehren sich seit Donnerstagmittag gegen ihren geplanten Transport in ein Flüchtlingslager. Nach Polizeiangaben nehmen sie das von den Beamten angebotene Essen und Trinken weiterhin nicht an. Die Polizei will die Flüchtlinge an der Weiterreise nach Westen hindern. +++ 9.38 Uhr: Hunderttausende Briten fordern Aufnahme von mehr Flüchtlingen +++ Ungarns Premierminister Viktor Urban zeigt weiterhin wenig Hilfsbereitschaft und warnt vor einem endlosen Strom der Migranten. “Es ist Realität, dass Europa von einem Massenzustrom bedroht wird, viele Zig-Millionen Menschen könnten nach Europa kommen”, sagt Orban einem öffentlichen Radiosender. “Noch sprechen wir von Hunderttausenden, aber nächstes Jahr werden wir über Millionen sprechen und es wird kein Ende nehmen.” Europa müsse seine Grenzen schützen, auch am Budapester Ostbahnhof. “Wir könnten als Minderheit im eigenen Land enden”, sagt Orban. Die Polizei hat am Ostbahnhof von Budapest einen Konflikt zwischen rechtsradikalen ungarischen Fußballfans und Flüchtlingen gerade noch verhindert. Eine Gruppe Flüchtlinge habe etwas in arabischer Sprache skandiert, die ungarischen Rechtsradikalen hätten mit nationalistischen Parolen reagiert. Auch Feuerwerkskörper seien zu hören gewesen, berichtet die ungarische Nachrichtenagentur MTI. Schlussendlich sei es der Polizei gelungen, die beiden Gruppen getrennt zu halten. +++ 9.34 Uhr: UN-Kommissar: EU sollte 200.000 Flüchtlinge auf Staaten verteilen +++ Der estnische Innenminister Hanno Pevkur bleibt bei seinem Nein für verbindliche Flüchtlingsquoten. Die freiwillige Aufnahme sei der einzige Weg, um Misstrauen und das Verschwinden des Schengen-Raums zu vermeiden, sagt in Tallinn. Die einzige Lösung für die Flüchtlingskrise seien Maßnahmen, die die Situation in den Krisengebieten stabilisieren, sagt Pevkur nach Angaben des estnischen Rundfunks. Estland will in den kommenden zwei Jahren 200 Flüchtlinge aufnehmen. +++ 9.31 Uhr: Erdogan weist de Maizières Vorschlag für Flüchtlingscamps zurück +++ Dutzende Flüchtlinge brechen nach einem Bericht der staatlichen ungarischen Nachrichtenagentur MTI aus einem Auffanglager nahe des Ortes Bicske in der Nähe von Budapest aus. +++ 9.07 Uhr: Stegner gegen Änderung von Asylrecht +++ Der britische Premierminister David Cameron reagiert auf die Forderungen, mehr Flüchtlinge aufzunehmen. Einem Bericht des britischen “Guardian” zufolge will Großbritannien Tausende Migranten direkt aus Flüchtlingslagern der Vereinten Nationen an den Grenzen Syriens auswählen. Wie es aus der Regierung heißt, sollen keine Flüchtlinge aufgenommen werden, die bereits in Europa sind. So wolle man verhindern, indirekt Schleuserbanden zu unterstützen. Außerdem sollten keine Menschen motiviert werden, die Reise nach Europa anzutreten. Kein europäisches Land helfe vor Ort so viel wie Großbritannien, sagte Cameron. Es seien bereits 900 Millionen Pfund (1,23 Mrd Euro) an finanziellen Hilfen in die Region geflossen. +++ 8.14 Uhr: 500 Flüchtlinge verweigern weiter Fahrt in ungarisches Aufnahmelager +++ Zu den kritisierten Aufnahmelagern sagt Szijjarto: “Wir haben Transitzonen eingerichtet, in denen Migranten ihre Asylanträge stellen können und wir treffen innerhalb einiger Tage eine Entscheidung.” So lange müssten die Menschen in den Transitzonen bleiben. Die Zahl der illegal nach Ungarn eingereisten Migranten beziffert Szijjarto auf “bis heute 163.000”. Mehr als 99 Prozent von ihnen seien über die Grenze zu Serbien gekommen. Vor der libyschen Küste sind nach Angaben der Internationalen Organisation für Migration (IOM) vermutlich mindestens 30 Bootsflüchtlinge ertrunken. 91 Überlebende habe die italienische Küstenwache am Donnerstag aus einem sinkenden Boot gerettet, teilt die IOM mit. Insgesamt seien 120 bis 140 Menschen an Bord gewesen. Die meisten der Flüchtlinge kamen demnach aus Somalia, Nigeria und dem Sudan. Das Boot sei “wie oft üblich” erst kurz vor der Fahrt am Strand aufgepumpt worden und habe dann schnell Luft verloren. Die Insassen seien daraufhin “in Panik” geraten und hätten sich alle auf eine Seite des Boots gedrängt. “Viele von ihnen sind ins Wasser gefallen.” +++ 7.41 Uhr: Orban: “Strom der Migranten ist endlos” +++ Der türkische Präsident Recep Tayyip Erdogan weist einen Vorschlag von Bundesinnenminister Thomas de Maizière (CDU) zum Aufbau von EU-Flüchtlingslagern in der Türkei zurück. Nach seinem Eindruck wolle ein deutscher Minister, dass sich Deutschland unter syrischen Flüchtlingen in der Türkei einige zur Aufnahme aussuchen könne, sagt Erdogan dem US-Fernsehsender “CNN”. “Was ist das denn für eine Haltung? Das kann man nicht verstehen”, sagt Erdogan. In dem Interview sagt Erdogan auch, er habe beim Anblick des Fotos des toten Flüchtlingskinds Ailan geweint. Tschechien, Slowakei, Ungarn und Polen pochen auf einen restriktiven Kurs gegenüber Flüchtlingen. Jedes EU-Land sollte souverän über seine Maßnahmen zum Umgang mit dem Andrang von Flüchtlingen entscheiden, sagt die polnische Ministerpräsidentin Ewa Kopacz nach dem Treffen der Regierungschefs der sogenannten Visegrad-Gruppe. Die Gruppe lehnt eine Quote zur Aufnahme von Flüchtlingen ab, was unter anderem in Deutschland auf deutliche Kritik gestoßen ist. Zur besseren medizinischen Versorgung der vielen Flüchtlinge fordert der Verband der Kinder- und Jugendärzte dringend ein bundesweit einheitliches Vorgehen. Impfaktionen, Krankenversicherungskarten und sogenannte Laufzettel, auf denen Untersuchungen dokumentiert werden, gebe es bislang nur punktuell, sagte Verbandspräsident Wolfram Hartmann. Er sieht deshalb “erhebliche Probleme” bei der Gesundheitsversorgung der Flüchtlinge. Er befürchtet zudem, dass Ärzte manche Erkrankungen nicht oder nicht mehr erkennen: Dazu zähle neben Tropenkrankheiten etwa Polio. +++ 7.29 Uhr: Brand im hessischen Flüchtlingsheim +++ Die meisten Flüchtlinge auf dem Bahnhof, die sich nicht in Ungarn registrieren lassen, wollten laut Orban nach Deutschland. Aber Ungarn könne sie nicht durchlassen, weil Österreich dann seine Grenze schließen müsste. “Wenn Deutschland ihnen Visa ausstellt, können wir sie rauslassen.” +++05.16 Uhr: Ärzteverband für bessere medizinische Versorgung von Flüchtlingen+++ Nach Angaben der am Bahnhof von Bicske festgehaltenen Migranten wollen auch die Frauen und Kinder am Samstag Richtung Deutschland aufbrechen, wenn ihr Zug nicht weiterfahren darf. Die Bundesregierung stockt ihre Hilfe für die Versorgung von Flüchtlingen in Griechenland auf. “Wir haben entschieden, dass wir unsere Hilfe für Griechenland, wo viele Flüchtlinge ankommen, noch einmal verdoppeln auf jetzt 2,4 Millionen Euro”, erklärt Bundesaußenminister Frank-Walter Steinmeier (SPD). Deutschland hilft Griechenland dem Ministerium zufolge zudem bei der Registrierung und medizinischen Versorgung von Flüchtlingen. Mit der Verdopplung der Zahlungen signalisiere die Bundesregierung erstens, “dass Griechenland besonderen Belastungen unterliegt und wir zweitens nicht nur mahnen und nicht nur auffordern, sondern Athen auch handfest unterstützen, damit es in der Lage ist, seine Aufgabe zu bewältigen”, sagt Steinmeier. +++05:15 Uhr: Jährlich 300.000 neue Wohnungen für Flüchtlinge nötig+++ Wegen einer schlechten medizinischen Versorgung von Flüchtlingen, befürchtet der deutsche Ärzteverband eine Verbreitung von Tropenkrankheiten wie Polio. +++05.08 Uhr: Verfassungsschutz befürchtet mehr rechtsextreme Gewalt gegen Flüchtlinge+++ Ungarn hat einen zweiten Zug mit Flüchtlingen auf dem Weg Richtung Westen aufgehalten und alle 120 Reisenden in Flüchtlingslager gebracht. Wie die Polizei mitteilt, wurde der Zug aus Budapest Richtung Györ nahe der Grenze zu Österreich am Donnerstag im Dorf Nagyszentjanos gestoppt. 83 Flüchtlinge ließe')"
      ]
     },
     "execution_count": 187,
     "metadata": {},
     "output_type": "execute_result"
    }
   ],
   "source": [
    "max([(len(str(s).split()), idx, s) for idx,s in enumerate(val_t['text'])])"
   ]
  },
  {
   "cell_type": "code",
   "execution_count": 191,
   "metadata": {},
   "outputs": [
    {
     "name": "stdout",
     "output_type": "stream",
     "text": [
      "http://nachedeu.com/newsticker-fla%c2%bcchtlingskrise-deutschland-will-mit-kriegsschiffen-jagd-auf-schleuser-machen/\t+++ Newsticker FlÃ¼chtlingskrise +++: Deutschland will mit Kriegsschiffen Jagd auf Schleuser machen +++ 21.23 Uhr: Polizeibekannter Neonazi bewachte Flüchtlinge +++ Großbritannien mehr Flüchtlinge aufnehmen. Dazu sollen Tausende Syrer direkt aus den Flüchtlingslagern ausgewählt werden. +++ 20.43 Uhr: Regierung will Mandat für bewaffneten Einsatz gegen Schlepper +++ Die EU-Außenminister kommen am Freitag in Luxemburg zusammen, um unter anderem über die dramatische Situation der Flüchtlinge zu beraten. Schwerpunkt der zweitägigen Gespräche soll die Situation in den Herkunfts- und Transitstaaten sein. Deutschland und Frankreich starteten kurz vor dem Treffen eine gemeinsame Initiative für verbindliche Aufnahmequoten in der EU. In Ungarn herrschten wegen der großen Zahl von Flüchtlingen zuletzt teilweise chaotische Zustände. In der Stadt Bicske wehrten sich am Abend rund 500 Menschen gegen den Transport in ein Flüchtlingslager. Sie waren an der Weiterreise per Zug nach Westen gehindert worden. +++ 20.20 Uhr: Ruf nach EU-Sondergipfel zur Flüchtlingskrise wird lauter +++ Nach Angaben der ungarischen Polizei brechen etwa 300 Migranten aus einem Aufnahmelager in Roszke nahe der serbischen Grenze aus. Ein Reuters-Fotograf beobachtet unterdessen in Budapest, dass sich Hunderte Flüchtlinge aufmachen, um vom Ostbahnhof der Hauptstadt zur österreichischen Grenze zu gehen. Die Entfernung beträgt knapp 200 Kilometer. +++ 19.45 Uhr: Estland bleibt beim Nein zu Flüchtlingsquoten +++ Am Bahnhof von Bicske stirbt ein Migrant. Das berichtet die ungarische Nachrichtenagentur MTI unter Berufung auf den Rettungsdienst. Der 50-Jährige sei zusammengebrochen auf den Schienen gefunden worden; Rettungsversuche seien vergeblich gewesen. Über die genaue Todesursache und über die Herkunft des Mannes gibt es noch keine Informationen. +++ 18.45 Uhr: Streit zwischen Flüchtlingen und Rechtsradikalen vereitelt +++ Premierminister David Cameron geriet unter Druck, nachdem das Bild eines ertrunkenen Flüchtlingsjungen große Betroffenheit in Großbritannien ausgelöst hatte. Konservative Politiker schlossen sich der Forderung der Opposition an, die harte Asylpolitik zu ändern. Auch Cameron sagte, er sei “tief bewegt” von dem Foto. Großbritannien werde seiner moralischen Verantwortung nachkommen. +++ 18.15 Uhr: Mann gesteht Brandanschlag in Salzhemmendorf +++ Großbritannien will mehr Geld für die Unterstützung von Menschen aufbringen, die aus Syrien und anderen Konfliktgebieten fliehen. Premierminister David Cameron kündigt an, die Hilfen um 100 Million Pfund (etwa 137 Millionen Euro) aufzustocken. Insgesamt gebe sein Land damit eine Milliarde Pfund (etwa 1,37 Miliarden Euro) zur Unterstützung von Flüchtlingslagern an den Grenzen Syriens aus. Dies sei die größte Summe, die Großbritannien jemals in einer humanitären Krise aufgebracht habe. In einer Flüchtlingsunterkunft im hessischen Heppenheim hat es in der Nacht zum Freitag gebrannt. Ein Mann wurde schwer verletzt, als er sich mit einem Sprung aus der zweiten Etage ins Freie rettete, teilt die Polizei mit. Weitere der mehr als 60 Bewohner erlitten leichte Rauchgasverletzungen. Nach ersten Erkenntnissen brach das Feuer hinter der Eingangstür aus. Die Ursache sei noch unklar, sagt eine Polizeisprecherin. Ob es sich um Brandstiftung handele, könne derzeit nicht gesagt werden. Man ermittele jedoch in alle Richtungen. Der auf der Flucht nach Europa ertrunkene dreijährige Aylan ist in seiner nordsyrischen Heimatstadt Kobane beigesetzt worden. Auch sein ebenfalls ums Leben gekommener Bruder und seine Mutter seien bestattet worden, erklärt Kurden-Sprecher Idriss Nassan. Vater Abdullah Kurdi sagte dem kurdischen Sender Rudaw: “Ich hoffe, dass meine Geschichte die Menschen dazu bringt, den Flüchtlingen mehr zu helfen.” Der leblose Körper von Aylan war an einem Strand im türkischen Bodrum angespült worden. Das Foto des toten Kindes löste international Bestürzung aus. +++ 18.15 Uhr: Osteuropäische Länder fordern restriktive Flüchtlingspolitik +++ Der Städtetag rechnet wegen der hohen Flüchtlingszahlen mit einem jährlichen zusätzlichen Bedarf von mindestens 300.000 neuen Wohnungen in Deutschland. “Darunter sollten mindestens 30.000 bis 40.000 geförderte Sozialwohnungen sein, im Moment sind es erst halb so viele”, sagte Städtetagspräsidentin Eva Lohse der “Rheinischen Post” laut Vorabbericht. Zugleich forderte die Ludwigshafener Oberbürgermeisterin mehr Entlastung der mit der Flüchtlingsversorgung zunehmend finanziell überforderten Kommunen durch Bund und Länder. “Für eine Pro-Kopf-Pauschale des Bundes und der Länder an die Kommunen spricht, dass sie dynamisch mitwächst”, sagte die CDU-Politikerin. “Ein Sonderfonds für Asylbewerber und Flüchtlinge vom Bund für die Kommunen hätte den Vorteil, dass das Geld direkt bei den Kommunen ankäme und nicht bei den Ländern versickern kann”. Denkbar sei auch eine Kombination aus beidem. +++ 18 Uhr: Migrant am ungarischen Bahnhof Bicske gestorben +++ Russlands Präsident Wladimir Putin hat der Europäischen Union wegen deren Nähe zu den USA eine Mitschuld an der Flüchtlingskrise in Europa gegeben. “Europa folgt blind den amerikanischen Anweisungen und trägt nun diese schwere Last”, sagt Putin bei einem Besuch in Wladiwostok. Zuvor schon hatte das russische Außenministerium eine verfehlte Nahostpolitik westlicher Staaten als Auslöser der Flüchtlingsströme bezeichnet. +++ 17.31 Uhr: Tschechien und Slowakei schlagen Flüchtlings-Korridor vor +++ Der Sprecher der Internationalen Organisation für Migration (IOM), Flavio Di Giacomo, berichtet auf Twitter von etwa 40 Flüchtlingen, die möglicherweise vor der libyschen Küste im Mittelmeer ertrunken sein könnten. Nach Berichten von Überlebenden würden noch etwa 20 Menschen vermisst, sagt eine Sprecherin der Küstenwache in Italien. Die Küstenwache hatte am Donnerstag 91 Menschen von einem Boot vor Libyen gerettet, ein toter Migrant wurde im Wasser gefunden. +++ 16.45 Uhr: London stockt Hilfen für Flüchtlinge auf +++ EU-Kommissionschef Jean-Claude Juncker will in der kommenden Woche die Verteilung von 120.000 weiteren Flüchtlingen auf andere EU-Staaten vorschlagen. Damit sollen Griechenland, Italien und Ungarn entlastet werden – in diesen Ländern kommen sehr viele Flüchtlinge an. Eine Sprecherin der Behörde macht deutlich, dass der alte Vorschlag der Kommission, 40.000 Flüchtlinge aus Italien und Griechenland zu verteilen, weiterhin gültig sei. “Das käme zusätzlich”, sagt sie mit Blick auf den neuen Vorstoß. Juncker will ihn am kommenden Mittwoch im Straßburger Europaparlament präsentieren. +++ 16.04 Uhr: 1000 Flüchtlinge zu Fuß auf Autobahn Richtung Grenze unterwegs+++ Der UN-Hochkommissar für Flüchtlinge, António Guterres, appeliert an die EU, sich auf Verteilung von bis zu 200.000 Flüchtlingen auf die Mitgliedstaaten nach verbindlichen Quoten zu einigen. Zugleich müssten ausreichende Erstaufnahmezentren geschaffen werden, fordert Guterres. Dabei brauche insbesondere Griechenland Hilfe, erklärt der UN-Hochkommissar mit Blick auf das EU-Außenministertreffen zur Flüchtlingskrise in Luxemburg. “Solidarität kann nicht allein in der Verantwortung einiger weniger EU-Staaten liegen.” Die Lage der Asylsuchenden in Ungarn ist weiter angespannt. Regierungschef Viktor Orban droht damit, einen weiteren Zaun an der Grenze zu Kroatien zu errichten. 500 Flüchtlinge am Bahnhof von Bicske protestieren gegen ihren geplanten Transport in ein ungarisches Flüchtlingslager. Sie verweigern Essen und Trinken. Die Polizei hat inzwischen einen zweiten Zug mit Flüchtlingen gestoppt. Nach dem Foto von dem toten Flüchtlingsjungen Ailan reagiert Großbritannien auf Forderungen, mehr Flüchtlinge aufzunehmen. Premier David Cameron will Tausende Syrer direkt aus den Flüchtlingscamps an den Grenzen zu Syrien holen. Der Junge wurde im syrischen Kobane beerdigt. Hunderte Menschen sind in Ungarn aus ihren Flüchtlingslagern ausgebrochen. Mehr als tausend Flüchtlinge marschieren zu Fuß von Budapest Richtung Österreich. Die Ereignisse in der Flüchtlingskrise im stern -Newsticker. +++ 16.00 Uhr: Grüne nennen Flüchtlingspolitik der Bundesregierung “Totalausfall” +++ Der Verfassungsschutz befürchtet laut einem Zeitungsbericht einen weiteren Anstieg rechtsextremer Gewalt gegen Ausländer. “Eine Trendwende für die zweite Jahreshälfte ist derzeit nicht abzusehen”, sagte der Präsident des Bundesamtes für Verfassungsschutz (BfV), Hans-Georg Maaßen, dem “Tagesspiegel”. Maaßen verwies auf eine massive “Anti-Asyl-Agitation” der rechtsextremistischen Parteien NPD, Die Rechte, Der Dritte Weg und Pro NRW. Es sei “bemerkenswert, dass sich die Internetseiten der Parteien nahezu vollständig auf dieses Thema fokussieren”. Auch wenn sich die Parteien verbal von den Gewaltexzessen distanzierten, trügen sie “eine Mitschuld daran, wenn einige Protestierer zur Gewalt gegen Asylbewerber schreiten”, kritisierte Maaßen im “Tagesspiegel”. Er beobachte zudem mit Sorge, dass die Hetze gegen Flüchtlinge “zu einer weiteren Radikalisierung in der rechtsextremistischen Szene” führe. Damit werde ein Trend bestätigt, den der Verfassungsschutz schon in den vergangenen Jahren festgestellt habe. +++ 15.53 Uhr: Gabriel droht Hilfs-Unwilligen mit Sperrung von EU-Mitteln +++ Der Vater des in der Türkei geborgenen toten Flüchtlingskinds Ailan Kurdi will die auf der Flucht umgekommenen Mitglieder seiner Familie in der syrischen Stadt Kobane an der Grenze zur Türkei bestatten. Abdullah Kurdi ist mit den Särgen des dreijährigen Ailan, dessen fünfjährigen Bruders Galip und der Mutter der Kinder in der türkischen Grenzstadt Suruc angekommen. Gemeinsam mit Angehörigen und türkischen Sicherheitskräften brach er von dort in Richtung Kobane auf. Ailan, Galip und ihre Mutter waren im Mittelmeer ertrunken, als die syrische Familie aus der Türkei in das EU-Land Griechenland flüchten wollte. +++ 15.34 Uhr: Putin gibt EU wegen Nähe zu USA Mitschuld an Flüchtlingskrise +++ Der Vorsitzende der rechtspopulistischen britischen Ukip, Nigel Farange, wirft Bundeskanzlerin Angela Merkel das Anheizen der Flüchtlingskrise vor. Mit ihrer Ankündigung, Deutschland werde mehr Asylsuchende aufnehmen, habe sie mehr Menschen dazu animiert, sich auf den lebensgefährlichen Weg nach Europa zu machen. Ob der neue Zaun an der serbischen Grenze wie von der Regierung geplant auch von Soldaten bewacht werden darf, kommt nicht zur Abstimmung. Die links-liberale Opposition konnte das unter Berufung auf Formalitäten der Parlaments-Hausordnung verhindern. +++ 15.31 Uhr: Flüchtlinge durchbrechen Sperre +++ In dem Haus landete der selbst gebastelte Molotow-Cocktail dann in einem leeren Schlafzimmer in der von 40 Menschen bewohnten Unterkunft. Im Nebenraum schliefen eine Frau aus Simbabwe und ihre drei kleinen Kinder. Sie blieben nur durch Glück unverletzt. Der Feuerwehrmann half bei den Löscharbeiten. Das tatverdächtige Trio sitzt wegen versuchten Mordes und schwerer Brandstiftung in Untersuchungshaft. +++ 15.29 Uhr: Bundesregierung verdoppelt Hilfe für Flüchtlinge in Griechenland +++ Ungarns Außenminister Peter Szijjarto weist Kritik an der Flüchtlingspolitik seines Landes zurück. “Wir haben in Budapest eine dramatische Situation, weil einige Migranten, was Fingerabdrücke und Fotos angeht, eine Kooperation mit den ungarischen Behörden verweigern”, sagt Szijjarto bei einem Treffen der EU-Außenminister in Luxemburg. Ein Bahnhof sei keine Flüchtlingsstation. Die Asylsuchenden sollten ihn verlassen und in Flüchtlingszentren gehen. +++ 15.23 Uhr: Ungarn erklärt illegalen Grenzübertritt zur Straftat +++ Mehrere hundert Flüchtlinge laufen zu Fuß vom Budapester Ostbahnhof los in Richtung Grenze. Zuvor hatte eine Gruppe junger Männer die rund 3000 vor dem Bahnhof campierenden Asylbewerber aufgefordert, sich diesem Fußmarsch nach Österreich anzuschließen. Müttern mit kleinen Kindern bieten die jungen Männer an, sie beim Tragen der Kleinen zu unterstützen. “Wenn wir in kleinen Gruppen unterwegs sind, dann schnappt uns die Polizei, aber gemeinsam sind wir stark”, sagt ein junger Mann aus dem syrischen Aleppo. Die Polizei, die rund um den Bahnhof keine starke Präsenz zeigt, lässt die Gruppe zunächst gewähren. Ein mitbeschuldigter 24 Jahre alter Feuerwehrmann und eine 23-jährige Frau hatten ihre Beteiligung an der Tat ebenfalls bereits gestanden. Nach dem Bericht des “Spiegel” sollen die beiden Männer vor der Tat Bier und fast zwei Flaschen Weinbrand getrunken haben. Dazu hörten sie Musik von Rechtsrock-Bands wie Sturmwehr, Nordfront und Kategorie C. Dann füllten sie eine Flasche mit Benzin und Sägespänen. Die 23-jährige, die keinen Alkohol getrunken habe, fuhr das Auto zum Tatort. +++ 15.04 Uhr: Ungarischer Minister gibt Flüchtlingen Schuld am Bahnhof-Chaos +++ Der umstrittene Umgang der ungarischen Behörden mit Flüchtlingen führt zu dramatischen Szenen. Mehr als tausend Flüchtlinge haben sich inzwischen dem Fußmarsch vom Budapester Ostbahnhof Richtung österreichische Grenze angeschlossen. Ihr Weg führt sie auch über die Autobahn. Teilnehmer berichteten, sie wollten versuchen zu Fuß die rund 175 Kilometer entfernte österreichische Grenze zu erreichen. Sie überquerten die Elisabet-Brücke über die Donau, ohne dass die Polizei eingriff. Teilnehmer des Marsches spreizten die Finger zum Sieges- bzw. Peace-Zeichen, andere schwenkten Bilder von Bundeskanzlerin Angela Merkel (CDU). Am Nachmittag erreichten sie den Zubringer zur Autobahn 1 nach Wien, wie ungarische Nachrichtenportale und Fernsehsender berichteten. SPD-Vizechef Ralf Stegner spricht sich dagegen aus, zur Bewältigung der hohen Flüchtlingszahlen das Asylrecht zu ändern. “Es ist so viel zu tun, da sollten wir jetzt nicht über Veränderungen am Asylrecht nachdenken, für die es keine politische Mehrheit gibt”, sagt Stegner im Deutschlandfunk. “Die Substanz unseres individuellen Rechts, dass politisches Asyl geprüft wird, die dürfen wir nicht einschränken.” Aus der Union gibt es etwa die Forderung, die Einstufung von sicheren Herkunftsstaaten an niedrige Anerkennungsquoten zu koppeln. Auch den Vorschlag, das Grundgesetz zu ändern, damit der Bund künftig an den Ländern vorbei direkte Hilfszahlungen an die Kommunen leisten kann, lehnt Stegner ab. Benötigt würden stattdessen mehr Mittel vom Bund. +++ 15.01 Uhr: Bahnkorridor nach Deutschland möglich +++ Tschechien und die Slowakei schlagen die Einrichtung eines Korridors für syrische Flüchtlinge zwischen Ungarn und Deutschland vor. Beide Länder könnten einen Bahn-Korridor für syrische Flüchtlinge auf dem Weg von Ungarn nach Deutschland einrichten, wenn Berlin und Budapest zustimmten, sagt der tschechische Innenminister Milan Chovanec in Prag. Dabei könnten Tschechien und die Slowakei “die Züge passieren lassen, ohne die Menschen weiter zu kontrollieren”. +++14.38 Uhr: Britische EU-Gegner: Merkel heizt Flüchtlingskrise an+++ Der Deutsche Städtetag fordert einen raschen Ausbau der Erstaufnahmeeinrichtungen für Flüchtlinge. Die Zahl solcher Plätze in winterfesten Quartieren müsse bundesweit auf 150.000 erhöht werden, sagt Hauptgeschäftsführer Stephan Articus. Zudem müssten die Flüchtlinge dort künftig bis zu einem halben Jahr statt nur drei Monate bleiben können. So soll möglichst vor einer Verteilung in die Kommunen über ihren Anspruch auf Asyl entschieden werden. +++ 14.17 Uhr: Juncker will Verteilung von weiteren 120.000 Flüchtlingen vorschlagen +++ Die 71 in einem Kühlwagen ums Leben gekommenen Flüchtlinge sind nach Angaben österreichischer Behörden wahrscheinlich in dem luftdicht abgeschlossenen Laderaum noch in Ungarn erstickt. Bislang sei kein Einziger identifiziert worden. Die Polizei geht davon aus, dass es sich um Menschen aus Syrien, dem Irak und Afghanistan handelt. +++ 14.12 Uhr: Frauen und Kinder in Bicske wollen am Samstag losmarschieren +++ Flüchtlinge in Budapest machen sich nun zu Fuß auf in Richtung Österreichischer Grenze. +++ 13.56 Uhr: In Bicske festgehaltene Flüchtlinge brechen aus +++ Ungarns Premier Viktor Orban: “Der Strom der Migranten ist endlos …” +++ 13.40 Uhr: Städtetag fordert mindestens 150.000 Flüchtlings-Erstaufnahmeplätze +++ Die Bundesregierung will sich laut einem Bericht des ARD-Hauptstadtstudios im Rahmen der EU-Mission im Mittelmeer mit zwei Kriegsschiffen an der Jagd auf Schleuser beteiligen und sucht dafür ein Mandat des Bundestages. Der Staatssekretär im Auswärtigen Amt, Markus Ederer, habe die Bundestagsfraktionen über den Plan informiert, berichtet das Hauptstadtstudio. Da bei dem Einsatz gegen Schlepper auch der Gebrauch von Schusswaffen erlaubt sei, sei die Zustimmung des Bundestages notwendig. Der Bundestag solle am 24. September über das Mandat beraten und Anfang Oktober darüber abstimmen. +++ 13.32 Uhr: Hunderte Flüchtlinge starten Fußmarsch von Budapest nach Westen +++ Mit 5600 Menschen hat am Donnerstag eine Rekordzahl an Flüchtlingen die Grenze von Griechenland nach Mazedonien überquert. Die Zahl sei etwa doppelt so hoch wie üblich, sagt die Sprecherin des UN-Flüchtlingshilfswerks UNHCR, Melissa Fleming. Normalerweise liege die Zahl bei 2000 bis 3000 pro Tag. Es sei schwierig vorauszusagen, wie sich die Situation in den kommenden Wochen entwickle. Die Grünen in Bundestag äußern scharfe Kritik an der Flüchtlingspolitik der Bundesregierung und insbesondere an Innenminister Thomas de Maiziére (CDU). Was die große Koalition bisher gezeigt habe, sei ein “kompletter Totalausfall”, sagt die Fraktionsvorsitzende Katrin Göring-Eckardt. Der Innenminister habe einen “gigantischen Stau” beim Bundesamt für Migration und Flüchtlinge (BAMF) zu verantworten, wo 250.000 Asylanträge unbearbeitet seien. De Maiziére versage aber auch beim Kampf gegen Fremdenfeinde und Rechtsextreme nach den zahlreichen Anschlägen auf Asylbewerberheime in Deutschland. +++ 13.19 Uhr: Möglicherweise erneut Flüchtlinge im Mittelmeer ertrunken +++ Tschechien und die Slowakei können sich nach Angaben ihrer Innenminister vorstellen, einen Bahnkorridor für Flüchtlinge von Ungarn nach Deutschland einzurichten. Dies könne geschehen, wenn sich die Regierungen in Budapest und Berlin einig seien. In Ungarn gilt illegaler Grenzübertritt vom 15. September an nicht mehr nur als Ordnungswidrigkeit, sondern als Straftat. Das beschließt das Parlament in Budapest im Eilverfahren auf Initiative des Innenministers Sandor Pinter. Schlepper sollen mit bis zu 20 Jahren Haft bestraft werden. Zur Verhinderung der illegalen Einwanderung sollen Transitzonen an der Grenze eingerichtet werden, die zur serbischen Seite hin offen sind und auf der ungarischen Seite geschlossen. Die Transitzonen sind als größere Flächen geplant, auf denen sich Flüchtlinge bis zum Ende ihres Asylverfahrens aufhalten dürfen. — Flavio Di Giacomo (@fladig) 4. September 2015 So rasant verbreitet sich #RefugeesWelcome in Europa +++ 13.15 Uhr: Flüchtlinge in Kühltransporter wohl erstickt +++ Mehr als 333.000 Menschen in Großbritannien fordern ihre Regierung auf, mehr Flüchtlinge ins Land zu lassen. “Großbritannien gewährt im Verhältnis zu anderen europäischen Ländern nicht ausreichend Asyl”, heißt es einer Online-Petition an Regierung und Abgeordnete. “Wir müssen helfen.” Petitionen, die mehr als 100.000 Unterstützer finden, werden für eine Parlamentsdebatte in Betracht gezogen. +++ 13.14 Uhr: Mehr als 5600 Flüchtlinge kommen in Mazedonien an +++ Putin spricht nun ebenfalls von einer falschen Politik des Westens in Nordafrika und Nahost. Die Krise sei erwartbar gewesen, sagt der Kremlchef nach einem Bericht der Nachrichtenagentur Interfax. Eine Lösung der Krise sei nur durch einen vereinten Kampf gegen den Terrorismus möglich. +++ 13.09 Uhr: Ungarisches Parlament verschärft Strafen für Grenzverletzung +++ Die Flüchtlingsbeauftragte der Bundesregierung, Aydan Özoguz (SPD), ermahnt die ungarische Regierung, Flüchtlinge nicht wieder tatenlos Richtung Deutschland durchreisen zu lassen. “Wir erwarten, dass Ungarn die Flüchtlinge im eigenen Land registriert und entsprechend der europäischen Standards behandelt. Dabei können wir durchaus auch Hilfe leisten”, so die SPD-Politikerin der “Nordwest-Zeitung”. Das eigentliche Problem sei, dass die Bedingungen für Flüchtlinge in manchen EU-Staaten so schlimm seien, dass die Migranten alles versuchen, um dort wegzukommen. +++ 12.47 Uhr: 300 Flüchtlinge aus Aufnahmelager in Ungarn geflohen +++ Im ungarischen Fernsehen war zu sehen, wie Autos an den marschierenden Flüchtlingen vorbeifuhren. Angeführt wurden sie von einem Mann mit EU-Flagge. Die Fernsehbilder zeigten neben ihm einen Mann auf Krücken; er hatte ein Bild von Bundeskanzlerin Angela Merkel (CDU) auf der Brust. Im Internet verbreiteten sich Bilder und Nachrichten zu dem Flüchtlingsmarsch etwa mit dem Twitter-Schlagwort (Hashtag) #MigrantMarch. +++ 12. 45 Uhr: Palästinensermädchen Reem darf weiter in Rostock bleiben +++ An einer ungarischen Autobahn durchbrechen Flüchtlinge einem Augenzeugen zufolge eine Absperrung der Polizei. Demnach laufen sie weiter in Richtung Österreich. +++ 12.34 Uhr: Mindestens 30 Bootsflüchtlinge vor libyscher Küste vermisst +++ The 91 survivors brought to Lampedusa told IOM that they were on a dinghy carrying 130-140.Many drowned. #missingmigrants are approx.40 +++ 12.29 Uhr: Bundesregierung: Ungarn muss Asylverfahren durchführen +++ Das ungarische Parlament beschließt ein Gesetz, durch das die Strafen für illegale Grenzübertritte verschärft werden. Zudem beschließt es die Einrichtung sogenannter Transitzonen in Grenznähe. +++ 11.49 Uhr: Polizei in Ungarn stoppt zweiten Zug mit Flüchtlingen +++ Das durch ihre Tränen während einer Diskussion mit Bundeskanzlerin Angela Merkel (CDU) im Juli bekanntgewordene Palästinensermädchen Reem hat gute Chancen auf eine gesicherte Existenz in Deutschland. Nach Angaben des Rostocker Rathauses haben das 14-jährige Mädchen und ihr Vater zunächst eine bis März 2016 befristete Aufenthaltserlaubnis erhalten. Diese Erlaubnis werde halbjährlich überprüft. Es sei davon auszugehen, dass die Behörden bei den kommenden Prüfungen zu keinem anderen Ergebnis kommen werden. Die endgültige Klärung erfolge spätestens zum März 2017. +++ 11.44 Uhr: Syrisches Flüchtlingskind Aylan in Kobane beigesetzt +++ In d Die Bundesregierung will sich laut einem Bericht des ARD-Hauptstadtstudios im Rahmen der EU-Mission im Mittelmeer mit zwei Kriegsschiffen an der Jagd auf Schleuser beteiligen und sucht dafür ein Mandat des Bundestages. Der Staatssekretär im Auswärtigen Amt, Markus Ederer, habe am Freitagabend die Bundestagsfraktionen über den Plan informiert, berichtete das Hauptstadtstudio. Da bei dem Einsatz gegen Schlepper auch der Gebrauch von Schusswaffen erlaubt sei, sei die Zustimmung des Bundestages notwendig. Der Bundestag solle am 24. September über das Mandat beraten und Anfang Oktober darüber abstimmen. er Europäischen Union wird der Ruf nach einem Sondergipfel der Staats- und Regierungschefs zur Flüchtlingskrise lauter. Bei einem Außenministertreffen in Luxemburg spricht sich unter anderem der österreichische Außenminister Sebastian Kurz offen dafür aus. Sein slowakischer Amtskollege Miroslaw Lajcak sagt: “Wir wären sicherlich dafür. Wenn wir bis Mitte Oktober warten, könnte das zu spät sein.” Neben einem Sondergipfel ist auch ein weiteres Sondertreffen der europäischen Außen- und Innenminister im Gespräch. Es könnte den Gipfel vorbereiten. +++ 10.54 Uhr: Vater von totem Flüchtlingsjungen reist zu Begräbnis nach Syrien +++ Mit Blick auf die Flüchtlingskrise spricht sich Ungarns Ministerpräsident Viktor Orban erneut gegen die Einwanderung von Muslimen aus. Man müsse respektieren, dass andere EU-Länder früher beschlossen hätten, mit Muslimen zusammenleben zu wollen. Jedoch “haben wir auch das Recht zu entscheiden, ob wir diesem Beispiel folgen wollen”, sagt der rechtskonservative Regierungschef im ungarischen Staatsrundfunk. Er selbst rate davon ab. +++10.09 Uhr: Orban gegen Zusammenleben mit Muslimen +++ Flüchtlinge im Zug am Bahnhof im ungarischen Bicske verweigern Essen und Trinken Asylpolitik So unterschiedlich sind Leistungen für Flüchtlinge in Europa +++ 10.00 Uhr: Großbritannien will mehr Flüchtlinge aufnehmen +++ Nach dem Brandanschlag auf ein Flüchtlingsheim im niedersächsischen Salzhemmendorf legt nach Informationen des Nachrichtenmagazins “Spiegel” auch der dritte Tatverdächtige ein Geständnis ab. Der 30-Jährige habe zugegeben, einen Molotow-Cocktail auf das Haus geworfen zu haben, schreibt das Blatt. Die Staatsanwaltschaft Hannover wollte dazu keine Stellungnahme abgeben. In einer Flüchtlingserstaufnahmestelle in Heidelberg hat einem Medienbericht ein polizeibekannter Rechtsradikaler gearbeitet. Der Mann aus Kassel sei bei einer Überprüfung durch den Staatsschutz aufgefallen, bestätigen die Polizei und das Regierungspräsidium Karlsruhe dem “Mannheimer Morgen”. Das Regierungspräsidium habe die private Sicherheitsfirma aufgefordert, den Mann sofort aus der Einrichtung zu verweisen und ihm Hausverbot zu erteilen. +++ 9.42 Uhr: Nach Brand in Heppenheimer Flüchtlingsunterkunft ermittelt das LKA +++ Etwa 500 protestierende Flüchtlinge haben die Nacht zum Freitag am Bahnhof im ungarischen Bicske im Zug verbracht. Sie wehren sich seit Donnerstagmittag gegen ihren geplanten Transport in ein Flüchtlingslager. Nach Polizeiangaben nehmen sie das von den Beamten angebotene Essen und Trinken weiterhin nicht an. Die Polizei will die Flüchtlinge an der Weiterreise nach Westen hindern. +++ 9.38 Uhr: Hunderttausende Briten fordern Aufnahme von mehr Flüchtlingen +++ Ungarns Premierminister Viktor Urban zeigt weiterhin wenig Hilfsbereitschaft und warnt vor einem endlosen Strom der Migranten. “Es ist Realität, dass Europa von einem Massenzustrom bedroht wird, viele Zig-Millionen Menschen könnten nach Europa kommen”, sagt Orban einem öffentlichen Radiosender. “Noch sprechen wir von Hunderttausenden, aber nächstes Jahr werden wir über Millionen sprechen und es wird kein Ende nehmen.” Europa müsse seine Grenzen schützen, auch am Budapester Ostbahnhof. “Wir könnten als Minderheit im eigenen Land enden”, sagt Orban. Die Polizei hat am Ostbahnhof von Budapest einen Konflikt zwischen rechtsradikalen ungarischen Fußballfans und Flüchtlingen gerade noch verhindert. Eine Gruppe Flüchtlinge habe etwas in arabischer Sprache skandiert, die ungarischen Rechtsradikalen hätten mit nationalistischen Parolen reagiert. Auch Feuerwerkskörper seien zu hören gewesen, berichtet die ungarische Nachrichtenagentur MTI. Schlussendlich sei es der Polizei gelungen, die beiden Gruppen getrennt zu halten. +++ 9.34 Uhr: UN-Kommissar: EU sollte 200.000 Flüchtlinge auf Staaten verteilen +++ Der estnische Innenminister Hanno Pevkur bleibt bei seinem Nein für verbindliche Flüchtlingsquoten. Die freiwillige Aufnahme sei der einzige Weg, um Misstrauen und das Verschwinden des Schengen-Raums zu vermeiden, sagt in Tallinn. Die einzige Lösung für die Flüchtlingskrise seien Maßnahmen, die die Situation in den Krisengebieten stabilisieren, sagt Pevkur nach Angaben des estnischen Rundfunks. Estland will in den kommenden zwei Jahren 200 Flüchtlinge aufnehmen. +++ 9.31 Uhr: Erdogan weist de Maizières Vorschlag für Flüchtlingscamps zurück +++ Dutzende Flüchtlinge brechen nach einem Bericht der staatlichen ungarischen Nachrichtenagentur MTI aus einem Auffanglager nahe des Ortes Bicske in der Nähe von Budapest aus. +++ 9.07 Uhr: Stegner gegen Änderung von Asylrecht +++ Der britische Premierminister David Cameron reagiert auf die Forderungen, mehr Flüchtlinge aufzunehmen. Einem Bericht des britischen “Guardian” zufolge will Großbritannien Tausende Migranten direkt aus Flüchtlingslagern der Vereinten Nationen an den Grenzen Syriens auswählen. Wie es aus der Regierung heißt, sollen keine Flüchtlinge aufgenommen werden, die bereits in Europa sind. So wolle man verhindern, indirekt Schleuserbanden zu unterstützen. Außerdem sollten keine Menschen motiviert werden, die Reise nach Europa anzutreten. Kein europäisches Land helfe vor Ort so viel wie Großbritannien, sagte Cameron. Es seien bereits 900 Millionen Pfund (1,23 Mrd Euro) an finanziellen Hilfen in die Region geflossen. +++ 8.14 Uhr: 500 Flüchtlinge verweigern weiter Fahrt in ungarisches Aufnahmelager +++ Zu den kritisierten Aufnahmelagern sagt Szijjarto: “Wir haben Transitzonen eingerichtet, in denen Migranten ihre Asylanträge stellen können und wir treffen innerhalb einiger Tage eine Entscheidung.” So lange müssten die Menschen in den Transitzonen bleiben. Die Zahl der illegal nach Ungarn eingereisten Migranten beziffert Szijjarto auf “bis heute 163.000”. Mehr als 99 Prozent von ihnen seien über die Grenze zu Serbien gekommen. Vor der libyschen Küste sind nach Angaben der Internationalen Organisation für Migration (IOM) vermutlich mindestens 30 Bootsflüchtlinge ertrunken. 91 Überlebende habe die italienische Küstenwache am Donnerstag aus einem sinkenden Boot gerettet, teilt die IOM mit. Insgesamt seien 120 bis 140 Menschen an Bord gewesen. Die meisten der Flüchtlinge kamen demnach aus Somalia, Nigeria und dem Sudan. Das Boot sei “wie oft üblich” erst kurz vor der Fahrt am Strand aufgepumpt worden und habe dann schnell Luft verloren. Die Insassen seien daraufhin “in Panik” geraten und hätten sich alle auf eine Seite des Boots gedrängt. “Viele von ihnen sind ins Wasser gefallen.” +++ 7.41 Uhr: Orban: “Strom der Migranten ist endlos” +++ Der türkische Präsident Recep Tayyip Erdogan weist einen Vorschlag von Bundesinnenminister Thomas de Maizière (CDU) zum Aufbau von EU-Flüchtlingslagern in der Türkei zurück. Nach seinem Eindruck wolle ein deutscher Minister, dass sich Deutschland unter syrischen Flüchtlingen in der Türkei einige zur Aufnahme aussuchen könne, sagt Erdogan dem US-Fernsehsender “CNN”. “Was ist das denn für eine Haltung? Das kann man nicht verstehen”, sagt Erdogan. In dem Interview sagt Erdogan auch, er habe beim Anblick des Fotos des toten Flüchtlingskinds Ailan geweint. Tschechien, Slowakei, Ungarn und Polen pochen auf einen restriktiven Kurs gegenüber Flüchtlingen. Jedes EU-Land sollte souverän über seine Maßnahmen zum Umgang mit dem Andrang von Flüchtlingen entscheiden, sagt die polnische Ministerpräsidentin Ewa Kopacz nach dem Treffen der Regierungschefs der sogenannten Visegrad-Gruppe. Die Gruppe lehnt eine Quote zur Aufnahme von Flüchtlingen ab, was unter anderem in Deutschland auf deutliche Kritik gestoßen ist. Zur besseren medizinischen Versorgung der vielen Flüchtlinge fordert der Verband der Kinder- und Jugendärzte dringend ein bundesweit einheitliches Vorgehen. Impfaktionen, Krankenversicherungskarten und sogenannte Laufzettel, auf denen Untersuchungen dokumentiert werden, gebe es bislang nur punktuell, sagte Verbandspräsident Wolfram Hartmann. Er sieht deshalb “erhebliche Probleme” bei der Gesundheitsversorgung der Flüchtlinge. Er befürchtet zudem, dass Ärzte manche Erkrankungen nicht oder nicht mehr erkennen: Dazu zähle neben Tropenkrankheiten etwa Polio. +++ 7.29 Uhr: Brand im hessischen Flüchtlingsheim +++ Die meisten Flüchtlinge auf dem Bahnhof, die sich nicht in Ungarn registrieren lassen, wollten laut Orban nach Deutschland. Aber Ungarn könne sie nicht durchlassen, weil Österreich dann seine Grenze schließen müsste. “Wenn Deutschland ihnen Visa ausstellt, können wir sie rauslassen.” +++05.16 Uhr: Ärzteverband für bessere medizinische Versorgung von Flüchtlingen+++ Nach Angaben der am Bahnhof von Bicske festgehaltenen Migranten wollen auch die Frauen und Kinder am Samstag Richtung Deutschland aufbrechen, wenn ihr Zug nicht weiterfahren darf. Die Bundesregierung stockt ihre Hilfe für die Versorgung von Flüchtlingen in Griechenland auf. “Wir haben entschieden, dass wir unsere Hilfe für Griechenland, wo viele Flüchtlinge ankommen, noch einmal verdoppeln auf jetzt 2,4 Millionen Euro”, erklärt Bundesaußenminister Frank-Walter Steinmeier (SPD). Deutschland hilft Griechenland dem Ministerium zufolge zudem bei der Registrierung und medizinischen Versorgung von Flüchtlingen. Mit der Verdopplung der Zahlungen signalisiere die Bundesregierung erstens, “dass Griechenland besonderen Belastungen unterliegt und wir zweitens nicht nur mahnen und nicht nur auffordern, sondern Athen auch handfest unterstützen, damit es in der Lage ist, seine Aufgabe zu bewältigen”, sagt Steinmeier. +++05:15 Uhr: Jährlich 300.000 neue Wohnungen für Flüchtlinge nötig+++ Wegen einer schlechten medizinischen Versorgung von Flüchtlingen, befürchtet der deutsche Ärzteverband eine Verbreitung von Tropenkrankheiten wie Polio. +++05.08 Uhr: Verfassungsschutz befürchtet mehr rechtsextreme Gewalt gegen Flüchtlinge+++ Ungarn hat einen zweiten Zug mit Flüchtlingen auf dem Weg Richtung Westen aufgehalten und alle 120 Reisenden in Flüchtlingslager gebracht. Wie die Polizei mitteilt, wurde der Zug aus Budapest Richtung Györ nahe der Grenze zu Österreich am Donnerstag im Dorf Nagyszentjanos gestoppt. 83 Flüchtlinge ließe\ttrue\tneutral\tAllgemein#Haupt:neutral\r\n"
     ]
    }
   ],
   "source": [
    "! head -n 21 {germeval2017}/dev_v1.4.tsv | tail -n 1"
   ]
  },
  {
   "cell_type": "code",
   "execution_count": 16,
   "metadata": {},
   "outputs": [
    {
     "data": {
      "text/plain": [
       "1213131"
      ]
     },
     "execution_count": 16,
     "metadata": {},
     "output_type": "execute_result"
    }
   ],
   "source": [
    "len (lines)"
   ]
  },
  {
   "cell_type": "code",
   "execution_count": 168,
   "metadata": {},
   "outputs": [],
   "source": [
    "valbtw17 = np.load(p/'tmp'/'val_ids.npy')"
   ]
  },
  {
   "cell_type": "code",
   "execution_count": 171,
   "metadata": {},
   "outputs": [
    {
     "data": {
      "text/plain": [
       "121484"
      ]
     },
     "execution_count": 171,
     "metadata": {},
     "output_type": "execute_result"
    }
   ],
   "source": [
    "len(valbtw17)"
   ]
  },
  {
   "cell_type": "code",
   "execution_count": 172,
   "metadata": {},
   "outputs": [
    {
     "data": {
      "text/plain": [
       "112"
      ]
     },
     "execution_count": 172,
     "metadata": {},
     "output_type": "execute_result"
    }
   ],
   "source": [
    "max([len(s) for s in valbtw17])"
   ]
  },
  {
   "cell_type": "code",
   "execution_count": 173,
   "metadata": {},
   "outputs": [
    {
     "data": {
      "text/plain": [
       "3465393"
      ]
     },
     "execution_count": 173,
     "metadata": {},
     "output_type": "execute_result"
    }
   ],
   "source": [
    "sum([len(s) for s in valbtw17])"
   ]
  },
  {
   "cell_type": "code",
   "execution_count": 193,
   "metadata": {},
   "outputs": [],
   "source": [
    "lblbtw17 = np.load(germeval2017_tmp/'lbl_val.npy')"
   ]
  },
  {
   "cell_type": "code",
   "execution_count": 194,
   "metadata": {},
   "outputs": [
    {
     "data": {
      "text/plain": [
       "(2584,)"
      ]
     },
     "execution_count": 194,
     "metadata": {},
     "output_type": "execute_result"
    }
   ],
   "source": [
    "lblbtw17.shape"
   ]
  },
  {
   "cell_type": "code",
   "execution_count": 197,
   "metadata": {},
   "outputs": [
    {
     "data": {
      "text/plain": [
       "(2584, 1, 1)"
      ]
     },
     "execution_count": 197,
     "metadata": {},
     "output_type": "execute_result"
    }
   ],
   "source": [
    "lblbtw17.squeeze()[:,None][:,None].shape"
   ]
  },
  {
   "cell_type": "code",
   "execution_count": 25,
   "metadata": {
    "scrolled": true
   },
   "outputs": [
    {
     "data": {
      "text/plain": [
       "30000"
      ]
     },
     "execution_count": 25,
     "metadata": {},
     "output_type": "execute_result"
    }
   ],
   "source": [
    "spp = sp.SentencePieceProcessor()\n",
    "spp.Load(str( p/ 'tmp' / 'sp.model'))\n",
    "vs = spp.GetPieceSize() #len(itos)\n",
    "vs\n",
    "#tokens_fraction = float(len(val_lm)) / (len(spp.DecodeIds(val_lm.tolist()).split()) + (val_lm == EOS_ID).sum())"
   ]
  },
  {
   "cell_type": "code",
   "execution_count": 192,
   "metadata": {},
   "outputs": [
    {
     "data": {
      "text/plain": [
       "('<unk>', '<pad>', '<s>', '</s>')"
      ]
     },
     "execution_count": 192,
     "metadata": {},
     "output_type": "execute_result"
    }
   ],
   "source": [
    "spp.IdToPiece(0),spp.IdToPiece(1),spp.IdToPiece(2),spp.IdToPiece(3),"
   ]
  },
  {
   "cell_type": "code",
   "execution_count": 37,
   "metadata": {
    "scrolled": true
   },
   "outputs": [
    {
     "name": "stdout",
     "output_type": "stream",
     "text": [
      "100%|██████████| 1/1 [00:00<00:00, 1552.30it/s]\n"
     ]
    },
    {
     "data": {
      "text/plain": [
       "[[2,\n",
       "  4,\n",
       "  196,\n",
       "  11,\n",
       "  194,\n",
       "  3257,\n",
       "  12,\n",
       "  137,\n",
       "  829,\n",
       "  9,\n",
       "  1452,\n",
       "  923,\n",
       "  628,\n",
       "  503,\n",
       "  13,\n",
       "  14,\n",
       "  10,\n",
       "  5,\n",
       "  15,\n",
       "  16,\n",
       "  5439,\n",
       "  7551,\n",
       "  77,\n",
       "  9006,\n",
       "  10080,\n",
       "  88,\n",
       "  3]]"
      ]
     },
     "execution_count": 37,
     "metadata": {},
     "output_type": "execute_result"
    }
   ],
   "source": [
    "spp.SetEncodeExtraOptions(\"bos:eos\")\n",
    "[spp.EncodeAsIds(l) for l in tqdm(lines[:1])]"
   ]
  },
  {
   "cell_type": "code",
   "execution_count": null,
   "metadata": {},
   "outputs": [],
   "source": []
  },
  {
   "cell_type": "code",
   "execution_count": null,
   "metadata": {},
   "outputs": [],
   "source": []
  }
 ],
 "metadata": {
  "kernelspec": {
   "display_name": "Python [conda env:fastai]",
   "language": "python",
   "name": "conda-env-fastai-py"
  },
  "language_info": {
   "codemirror_mode": {
    "name": "ipython",
    "version": 3
   },
   "file_extension": ".py",
   "mimetype": "text/x-python",
   "name": "python",
   "nbconvert_exporter": "python",
   "pygments_lexer": "ipython3",
   "version": "3.6.6"
  }
 },
 "nbformat": 4,
 "nbformat_minor": 2
}
